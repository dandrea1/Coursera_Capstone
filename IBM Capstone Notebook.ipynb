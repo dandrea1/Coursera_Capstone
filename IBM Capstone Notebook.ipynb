{
 "cells": [
  {
   "cell_type": "markdown",
   "metadata": {},
   "source": [
    "# __IBM Data Science Capstone Project__"
   ]
  },
  {
   "cell_type": "markdown",
   "metadata": {},
   "source": [
    "This project uses historical car accident and cooresponding weather data to build a model that can predict the severity of an accident."
   ]
  },
  {
   "cell_type": "markdown",
   "metadata": {},
   "source": [
    "# __Part I Introduction To The Business Problem__"
   ]
  },
  {
   "cell_type": "markdown",
   "metadata": {},
   "source": [
    "### _A description of the problem and a discussion of the background_\n",
    "\n",
    "First responders (firefighters, policeman, ambulance drivers, paramedics, EMTs) are all professions that are the first to arrive to the scene of a traffic accident. However, first responders and their stations are not always in the optimal location to reach the scene of the next accident. The further first responders are from an accident, the more risk there is to those involved in the accident and the more risk their is to first responder safety. \n",
    "\n",
    "For example, \n",
    "- Firetruck accidents rank as the second leading cause of on-the-job deaths for firefighters.\n",
    "- Approximately 500 firefighters are involved in fatal firetruck crashes every year; on average, 1 in 100 of those occupants die as a result of the crash.\n",
    "- Between 2006 and 2016, more than one police officer per week was killed on average from a collision or from being struck directly by another vehicle.\n",
    "- More than 10,000 ambulance-related collisions occur annually; from 1993 to 2010, approximately 97 EMS technicians were killed in collisions.\n",
    "\n",
    "Source: https://insurance.glatfelters.com/first-responder-safety-roadside-safety\n",
    "\n",
    "\n",
    "#### Project Goal\n",
    "The goal of this project is to help minimize the risk posed to first responders on their way to an accident. By using machine learning categorization and prediction models, we can discover the most common accident locations and conditions. This information can be used to optimally staff and position first responders so they can minimize travel risk on the job.  \n",
    "\n",
    "#### Target Audience\n",
    "\n",
    "The target audience for this project are the government entities and policymakers who are interested in optimizing their emergency services regarding car accidents. This can also be used within the emergency response service entities to optimize their own response time. "
   ]
  },
  {
   "cell_type": "markdown",
   "metadata": {},
   "source": [
    "# __Part II Data Cleansing__"
   ]
  },
  {
   "cell_type": "markdown",
   "metadata": {},
   "source": [
    "The data preparation includes all the required activities to construct the final dataset which will be fed into the modeling tools. Data preparation can be performed multiple times and it includes balancing the labeled data, transformation, filling missing data, and cleaning the dataset."
   ]
  },
  {
   "cell_type": "markdown",
   "metadata": {},
   "source": [
    "### _A description of the data and how it will be used to solve the problem_\n",
    "The data used in this project contains 194,673 records of motor vehicle accidents and corresponding weather conditions. The date range for these accidents is from 2004-2020 in the United States. This dataset was provided by Coursea. \n",
    "\n",
    "The data set includes key fields like accident seveirty (personal or property damage), coordinates of the accident, weather on the day of the accident, time of the accident, collision type, junction type, and number of persons involved. \n",
    "\n",
    "This information can be extracted from the raw data to find the most common accident conditions that cause severe personal injury and provide a reccomendation for where first responders should be located/focus patrols to reduce their travel time to an accident. \n",
    "\n",
    "Please see the rest of the notebook for a full exercise on the data extraction and understanding: "
   ]
  },
  {
   "cell_type": "markdown",
   "metadata": {},
   "source": [
    "The first step is to import the raw data file and the required libraries for initial data analysis and understanding."
   ]
  },
  {
   "cell_type": "code",
   "execution_count": 1,
   "metadata": {
    "scrolled": true
   },
   "outputs": [
    {
     "name": "stderr",
     "output_type": "stream",
     "text": [
      "C:\\Users\\71062489\\Anaconda3\\lib\\site-packages\\IPython\\core\\interactiveshell.py:3063: DtypeWarning: Columns (33) have mixed types.Specify dtype option on import or set low_memory=False.\n",
      "  interactivity=interactivity, compiler=compiler, result=result)\n"
     ]
    },
    {
     "data": {
      "text/html": [
       "<div>\n",
       "<style scoped>\n",
       "    .dataframe tbody tr th:only-of-type {\n",
       "        vertical-align: middle;\n",
       "    }\n",
       "\n",
       "    .dataframe tbody tr th {\n",
       "        vertical-align: top;\n",
       "    }\n",
       "\n",
       "    .dataframe thead th {\n",
       "        text-align: right;\n",
       "    }\n",
       "</style>\n",
       "<table border=\"1\" class=\"dataframe\">\n",
       "  <thead>\n",
       "    <tr style=\"text-align: right;\">\n",
       "      <th></th>\n",
       "      <th>OBJECTID</th>\n",
       "      <th>SEVERITYCODE</th>\n",
       "      <th>X</th>\n",
       "      <th>Y</th>\n",
       "      <th>INCKEY</th>\n",
       "      <th>COLDETKEY</th>\n",
       "      <th>REPORTNO</th>\n",
       "      <th>STATUS</th>\n",
       "      <th>ADDRTYPE</th>\n",
       "      <th>INTKEY</th>\n",
       "      <th>...</th>\n",
       "      <th>ROADCOND</th>\n",
       "      <th>LIGHTCOND</th>\n",
       "      <th>PEDROWNOTGRNT</th>\n",
       "      <th>SDOTCOLNUM</th>\n",
       "      <th>SPEEDING</th>\n",
       "      <th>ST_COLCODE</th>\n",
       "      <th>ST_COLDESC</th>\n",
       "      <th>SEGLANEKEY</th>\n",
       "      <th>CROSSWALKKEY</th>\n",
       "      <th>HITPARKEDCAR</th>\n",
       "    </tr>\n",
       "  </thead>\n",
       "  <tbody>\n",
       "    <tr>\n",
       "      <th>0</th>\n",
       "      <td>1</td>\n",
       "      <td>2</td>\n",
       "      <td>-122.323148</td>\n",
       "      <td>47.703140</td>\n",
       "      <td>1307</td>\n",
       "      <td>1307</td>\n",
       "      <td>3502005</td>\n",
       "      <td>Matched</td>\n",
       "      <td>Intersection</td>\n",
       "      <td>37475.0</td>\n",
       "      <td>...</td>\n",
       "      <td>Wet</td>\n",
       "      <td>Daylight</td>\n",
       "      <td>NaN</td>\n",
       "      <td>NaN</td>\n",
       "      <td>NaN</td>\n",
       "      <td>10</td>\n",
       "      <td>Entering at angle</td>\n",
       "      <td>0</td>\n",
       "      <td>0</td>\n",
       "      <td>N</td>\n",
       "    </tr>\n",
       "    <tr>\n",
       "      <th>1</th>\n",
       "      <td>2</td>\n",
       "      <td>1</td>\n",
       "      <td>-122.347294</td>\n",
       "      <td>47.647172</td>\n",
       "      <td>52200</td>\n",
       "      <td>52200</td>\n",
       "      <td>2607959</td>\n",
       "      <td>Matched</td>\n",
       "      <td>Block</td>\n",
       "      <td>NaN</td>\n",
       "      <td>...</td>\n",
       "      <td>Wet</td>\n",
       "      <td>Dark - Street Lights On</td>\n",
       "      <td>NaN</td>\n",
       "      <td>6354039.0</td>\n",
       "      <td>NaN</td>\n",
       "      <td>11</td>\n",
       "      <td>From same direction - both going straight - bo...</td>\n",
       "      <td>0</td>\n",
       "      <td>0</td>\n",
       "      <td>N</td>\n",
       "    </tr>\n",
       "    <tr>\n",
       "      <th>2</th>\n",
       "      <td>3</td>\n",
       "      <td>1</td>\n",
       "      <td>-122.334540</td>\n",
       "      <td>47.607871</td>\n",
       "      <td>26700</td>\n",
       "      <td>26700</td>\n",
       "      <td>1482393</td>\n",
       "      <td>Matched</td>\n",
       "      <td>Block</td>\n",
       "      <td>NaN</td>\n",
       "      <td>...</td>\n",
       "      <td>Dry</td>\n",
       "      <td>Daylight</td>\n",
       "      <td>NaN</td>\n",
       "      <td>4323031.0</td>\n",
       "      <td>NaN</td>\n",
       "      <td>32</td>\n",
       "      <td>One parked--one moving</td>\n",
       "      <td>0</td>\n",
       "      <td>0</td>\n",
       "      <td>N</td>\n",
       "    </tr>\n",
       "    <tr>\n",
       "      <th>3</th>\n",
       "      <td>4</td>\n",
       "      <td>1</td>\n",
       "      <td>-122.334803</td>\n",
       "      <td>47.604803</td>\n",
       "      <td>1144</td>\n",
       "      <td>1144</td>\n",
       "      <td>3503937</td>\n",
       "      <td>Matched</td>\n",
       "      <td>Block</td>\n",
       "      <td>NaN</td>\n",
       "      <td>...</td>\n",
       "      <td>Dry</td>\n",
       "      <td>Daylight</td>\n",
       "      <td>NaN</td>\n",
       "      <td>NaN</td>\n",
       "      <td>NaN</td>\n",
       "      <td>23</td>\n",
       "      <td>From same direction - all others</td>\n",
       "      <td>0</td>\n",
       "      <td>0</td>\n",
       "      <td>N</td>\n",
       "    </tr>\n",
       "    <tr>\n",
       "      <th>4</th>\n",
       "      <td>5</td>\n",
       "      <td>2</td>\n",
       "      <td>-122.306426</td>\n",
       "      <td>47.545739</td>\n",
       "      <td>17700</td>\n",
       "      <td>17700</td>\n",
       "      <td>1807429</td>\n",
       "      <td>Matched</td>\n",
       "      <td>Intersection</td>\n",
       "      <td>34387.0</td>\n",
       "      <td>...</td>\n",
       "      <td>Wet</td>\n",
       "      <td>Daylight</td>\n",
       "      <td>NaN</td>\n",
       "      <td>4028032.0</td>\n",
       "      <td>NaN</td>\n",
       "      <td>10</td>\n",
       "      <td>Entering at angle</td>\n",
       "      <td>0</td>\n",
       "      <td>0</td>\n",
       "      <td>N</td>\n",
       "    </tr>\n",
       "  </tbody>\n",
       "</table>\n",
       "<p>5 rows × 38 columns</p>\n",
       "</div>"
      ],
      "text/plain": [
       "   OBJECTID  SEVERITYCODE           X          Y  INCKEY  COLDETKEY REPORTNO  \\\n",
       "0         1             2 -122.323148  47.703140    1307       1307  3502005   \n",
       "1         2             1 -122.347294  47.647172   52200      52200  2607959   \n",
       "2         3             1 -122.334540  47.607871   26700      26700  1482393   \n",
       "3         4             1 -122.334803  47.604803    1144       1144  3503937   \n",
       "4         5             2 -122.306426  47.545739   17700      17700  1807429   \n",
       "\n",
       "    STATUS      ADDRTYPE   INTKEY  ... ROADCOND                LIGHTCOND  \\\n",
       "0  Matched  Intersection  37475.0  ...      Wet                 Daylight   \n",
       "1  Matched         Block      NaN  ...      Wet  Dark - Street Lights On   \n",
       "2  Matched         Block      NaN  ...      Dry                 Daylight   \n",
       "3  Matched         Block      NaN  ...      Dry                 Daylight   \n",
       "4  Matched  Intersection  34387.0  ...      Wet                 Daylight   \n",
       "\n",
       "  PEDROWNOTGRNT  SDOTCOLNUM SPEEDING ST_COLCODE  \\\n",
       "0           NaN         NaN      NaN         10   \n",
       "1           NaN   6354039.0      NaN         11   \n",
       "2           NaN   4323031.0      NaN         32   \n",
       "3           NaN         NaN      NaN         23   \n",
       "4           NaN   4028032.0      NaN         10   \n",
       "\n",
       "                                          ST_COLDESC  SEGLANEKEY  \\\n",
       "0                                  Entering at angle           0   \n",
       "1  From same direction - both going straight - bo...           0   \n",
       "2                             One parked--one moving           0   \n",
       "3                   From same direction - all others           0   \n",
       "4                                  Entering at angle           0   \n",
       "\n",
       "   CROSSWALKKEY  HITPARKEDCAR  \n",
       "0             0             N  \n",
       "1             0             N  \n",
       "2             0             N  \n",
       "3             0             N  \n",
       "4             0             N  \n",
       "\n",
       "[5 rows x 38 columns]"
      ]
     },
     "execution_count": 1,
     "metadata": {},
     "output_type": "execute_result"
    }
   ],
   "source": [
    "#Import required libraries\n",
    "import pandas as pd\n",
    "import numpy as np\n",
    "%matplotlib inline \n",
    "import matplotlib as mpl\n",
    "import matplotlib.pyplot as plt\n",
    "\n",
    "#Import raw data from file\n",
    "raw_collision_data = pd.read_csv('C:/Users/71062489/Documents/Personal/GitHub Projects/Data_Collisions.csv')\n",
    "raw_collision_data.head()\n"
   ]
  },
  {
   "cell_type": "markdown",
   "metadata": {},
   "source": [
    "The second step is to complete basic data cleanup. "
   ]
  },
  {
   "cell_type": "code",
   "execution_count": 2,
   "metadata": {},
   "outputs": [
    {
     "data": {
      "text/html": [
       "<div>\n",
       "<style scoped>\n",
       "    .dataframe tbody tr th:only-of-type {\n",
       "        vertical-align: middle;\n",
       "    }\n",
       "\n",
       "    .dataframe tbody tr th {\n",
       "        vertical-align: top;\n",
       "    }\n",
       "\n",
       "    .dataframe thead th {\n",
       "        text-align: right;\n",
       "    }\n",
       "</style>\n",
       "<table border=\"1\" class=\"dataframe\">\n",
       "  <thead>\n",
       "    <tr style=\"text-align: right;\">\n",
       "      <th></th>\n",
       "      <th>SEVERITYCODE</th>\n",
       "      <th>X</th>\n",
       "      <th>Y</th>\n",
       "      <th>ADDRTYPE</th>\n",
       "      <th>SEVERITYDESC</th>\n",
       "      <th>COLLISIONTYPE</th>\n",
       "      <th>PERSONCOUNT</th>\n",
       "      <th>PEDCOUNT</th>\n",
       "      <th>PEDCYLCOUNT</th>\n",
       "      <th>VEHCOUNT</th>\n",
       "      <th>...</th>\n",
       "      <th>WEATHER</th>\n",
       "      <th>ROADCOND</th>\n",
       "      <th>LIGHTCOND</th>\n",
       "      <th>PEDROWNOTGRNT</th>\n",
       "      <th>SPEEDING</th>\n",
       "      <th>ST_COLCODE</th>\n",
       "      <th>ST_COLDESC</th>\n",
       "      <th>SEGLANEKEY</th>\n",
       "      <th>CROSSWALKKEY</th>\n",
       "      <th>HITPARKEDCAR</th>\n",
       "    </tr>\n",
       "  </thead>\n",
       "  <tbody>\n",
       "    <tr>\n",
       "      <th>0</th>\n",
       "      <td>2</td>\n",
       "      <td>-122.323148</td>\n",
       "      <td>47.703140</td>\n",
       "      <td>Intersection</td>\n",
       "      <td>Injury Collision</td>\n",
       "      <td>Angles</td>\n",
       "      <td>2</td>\n",
       "      <td>0</td>\n",
       "      <td>0</td>\n",
       "      <td>2</td>\n",
       "      <td>...</td>\n",
       "      <td>Overcast</td>\n",
       "      <td>Wet</td>\n",
       "      <td>Daylight</td>\n",
       "      <td>0</td>\n",
       "      <td>0</td>\n",
       "      <td>10</td>\n",
       "      <td>Entering at angle</td>\n",
       "      <td>0</td>\n",
       "      <td>0</td>\n",
       "      <td>0</td>\n",
       "    </tr>\n",
       "    <tr>\n",
       "      <th>1</th>\n",
       "      <td>1</td>\n",
       "      <td>-122.347294</td>\n",
       "      <td>47.647172</td>\n",
       "      <td>Block</td>\n",
       "      <td>Property Damage Only Collision</td>\n",
       "      <td>Sideswipe</td>\n",
       "      <td>2</td>\n",
       "      <td>0</td>\n",
       "      <td>0</td>\n",
       "      <td>2</td>\n",
       "      <td>...</td>\n",
       "      <td>Raining</td>\n",
       "      <td>Wet</td>\n",
       "      <td>Dark - Street Lights On</td>\n",
       "      <td>0</td>\n",
       "      <td>0</td>\n",
       "      <td>11</td>\n",
       "      <td>From same direction - both going straight - bo...</td>\n",
       "      <td>0</td>\n",
       "      <td>0</td>\n",
       "      <td>0</td>\n",
       "    </tr>\n",
       "    <tr>\n",
       "      <th>2</th>\n",
       "      <td>1</td>\n",
       "      <td>-122.334540</td>\n",
       "      <td>47.607871</td>\n",
       "      <td>Block</td>\n",
       "      <td>Property Damage Only Collision</td>\n",
       "      <td>Parked Car</td>\n",
       "      <td>4</td>\n",
       "      <td>0</td>\n",
       "      <td>0</td>\n",
       "      <td>3</td>\n",
       "      <td>...</td>\n",
       "      <td>Overcast</td>\n",
       "      <td>Dry</td>\n",
       "      <td>Daylight</td>\n",
       "      <td>0</td>\n",
       "      <td>0</td>\n",
       "      <td>32</td>\n",
       "      <td>One parked--one moving</td>\n",
       "      <td>0</td>\n",
       "      <td>0</td>\n",
       "      <td>0</td>\n",
       "    </tr>\n",
       "    <tr>\n",
       "      <th>3</th>\n",
       "      <td>1</td>\n",
       "      <td>-122.334803</td>\n",
       "      <td>47.604803</td>\n",
       "      <td>Block</td>\n",
       "      <td>Property Damage Only Collision</td>\n",
       "      <td>Other</td>\n",
       "      <td>3</td>\n",
       "      <td>0</td>\n",
       "      <td>0</td>\n",
       "      <td>3</td>\n",
       "      <td>...</td>\n",
       "      <td>Clear</td>\n",
       "      <td>Dry</td>\n",
       "      <td>Daylight</td>\n",
       "      <td>0</td>\n",
       "      <td>0</td>\n",
       "      <td>23</td>\n",
       "      <td>From same direction - all others</td>\n",
       "      <td>0</td>\n",
       "      <td>0</td>\n",
       "      <td>0</td>\n",
       "    </tr>\n",
       "    <tr>\n",
       "      <th>4</th>\n",
       "      <td>2</td>\n",
       "      <td>-122.306426</td>\n",
       "      <td>47.545739</td>\n",
       "      <td>Intersection</td>\n",
       "      <td>Injury Collision</td>\n",
       "      <td>Angles</td>\n",
       "      <td>2</td>\n",
       "      <td>0</td>\n",
       "      <td>0</td>\n",
       "      <td>2</td>\n",
       "      <td>...</td>\n",
       "      <td>Raining</td>\n",
       "      <td>Wet</td>\n",
       "      <td>Daylight</td>\n",
       "      <td>0</td>\n",
       "      <td>0</td>\n",
       "      <td>10</td>\n",
       "      <td>Entering at angle</td>\n",
       "      <td>0</td>\n",
       "      <td>0</td>\n",
       "      <td>0</td>\n",
       "    </tr>\n",
       "  </tbody>\n",
       "</table>\n",
       "<p>5 rows × 26 columns</p>\n",
       "</div>"
      ],
      "text/plain": [
       "   SEVERITYCODE           X          Y      ADDRTYPE  \\\n",
       "0             2 -122.323148  47.703140  Intersection   \n",
       "1             1 -122.347294  47.647172         Block   \n",
       "2             1 -122.334540  47.607871         Block   \n",
       "3             1 -122.334803  47.604803         Block   \n",
       "4             2 -122.306426  47.545739  Intersection   \n",
       "\n",
       "                     SEVERITYDESC COLLISIONTYPE  PERSONCOUNT  PEDCOUNT  \\\n",
       "0                Injury Collision        Angles            2         0   \n",
       "1  Property Damage Only Collision     Sideswipe            2         0   \n",
       "2  Property Damage Only Collision    Parked Car            4         0   \n",
       "3  Property Damage Only Collision         Other            3         0   \n",
       "4                Injury Collision        Angles            2         0   \n",
       "\n",
       "   PEDCYLCOUNT  VEHCOUNT  ...   WEATHER ROADCOND                LIGHTCOND  \\\n",
       "0            0         2  ...  Overcast      Wet                 Daylight   \n",
       "1            0         2  ...   Raining      Wet  Dark - Street Lights On   \n",
       "2            0         3  ...  Overcast      Dry                 Daylight   \n",
       "3            0         3  ...     Clear      Dry                 Daylight   \n",
       "4            0         2  ...   Raining      Wet                 Daylight   \n",
       "\n",
       "  PEDROWNOTGRNT SPEEDING  ST_COLCODE  \\\n",
       "0             0        0          10   \n",
       "1             0        0          11   \n",
       "2             0        0          32   \n",
       "3             0        0          23   \n",
       "4             0        0          10   \n",
       "\n",
       "                                          ST_COLDESC SEGLANEKEY CROSSWALKKEY  \\\n",
       "0                                  Entering at angle          0            0   \n",
       "1  From same direction - both going straight - bo...          0            0   \n",
       "2                             One parked--one moving          0            0   \n",
       "3                   From same direction - all others          0            0   \n",
       "4                                  Entering at angle          0            0   \n",
       "\n",
       "   HITPARKEDCAR  \n",
       "0             0  \n",
       "1             0  \n",
       "2             0  \n",
       "3             0  \n",
       "4             0  \n",
       "\n",
       "[5 rows x 26 columns]"
      ]
     },
     "execution_count": 2,
     "metadata": {},
     "output_type": "execute_result"
    }
   ],
   "source": [
    "#Pre-pross The Data\n",
    "#Drop Unecessary Columns \n",
    "#Dropping excess identifier columns not required for analysis. \n",
    "cleaned_collision_data = raw_collision_data.drop(['OBJECTID','EXCEPTRSNCODE','EXCEPTRSNDESC','INCKEY',\\\n",
    "                    'COLDETKEY','REPORTNO','STATUS','SEVERITYCODE.1','INTKEY','SDOTCOLNUM','INCDATE'], axis=1)\n",
    "\n",
    "#Drop location Column as too specific for analysis\n",
    "cleaned_collision_data = cleaned_collision_data.drop(['LOCATION'], axis=1)\n",
    "cleaned_collision_data\n",
    "\n",
    "#Convert Inattention Column to Boolean 1= not paying attention 0= paying attention\n",
    "cleaned_collision_data[\"INATTENTIONIND\"] = cleaned_collision_data[\"INATTENTIONIND\"].fillna(0)\n",
    "cleaned_collision_data.loc[(cleaned_collision_data['INATTENTIONIND'] == 'Y'),'INATTENTIONIND'] = 1\n",
    "\n",
    "#Convert Speeding Column to Boolean 1=Speeding 0= Not Speeding\n",
    "cleaned_collision_data[\"SPEEDING\"] = cleaned_collision_data[\"SPEEDING\"].fillna(0)\n",
    "cleaned_collision_data.loc[(cleaned_collision_data['SPEEDING'] == 'Y'),'SPEEDING'] = 1\n",
    "#cleaned_collision_data['SPEEDING'].value_counts()\n",
    "\n",
    "#Convert Hit Parked Car Column to Boolean 1=Yes 0= No\n",
    "cleaned_collision_data.loc[(cleaned_collision_data['HITPARKEDCAR'] == 'Y'),'HITPARKEDCAR'] = 1\n",
    "cleaned_collision_data.loc[(cleaned_collision_data['HITPARKEDCAR'] == 'N'),'HITPARKEDCAR'] = 0\n",
    "\n",
    "#Convert Pedestrian Right of Way to Boolean 1=Yes 0= No\n",
    "cleaned_collision_data.loc[(cleaned_collision_data['PEDROWNOTGRNT'] == 'Y'),'PEDROWNOTGRNT'] = 1\n",
    "cleaned_collision_data[\"PEDROWNOTGRNT\"] = cleaned_collision_data[\"PEDROWNOTGRNT\"].fillna(0)\n",
    "\n",
    "#Convert Under Influence of Drugs/Alcohol to Boolean 1=Yes 0= No\n",
    "cleaned_collision_data.loc[(cleaned_collision_data['UNDERINFL'] == 'Y'),'UNDERINFL'] = 1\n",
    "cleaned_collision_data.loc[(cleaned_collision_data['UNDERINFL'] == '1'),'UNDERINFL'] = 1\n",
    "cleaned_collision_data.loc[(cleaned_collision_data['UNDERINFL'] == 'N'),'UNDERINFL'] = 0\n",
    "cleaned_collision_data.loc[(cleaned_collision_data['UNDERINFL'] == '0'),'UNDERINFL'] = 0\n",
    "cleaned_collision_data[\"UNDERINFL\"] = cleaned_collision_data[\"UNDERINFL\"].fillna(0)\n",
    "\n",
    "#Convert Severity from String to Boolean 1=Yes 0= No\n",
    "cleaned_collision_data.loc[(cleaned_collision_data['SEVERITYDESC'] == '1'),'SEVERITYDESC'] = 1\n",
    "cleaned_collision_data.loc[(cleaned_collision_data['SEVERITYDESC'] == '0'),'SEVERITYDESC'] = 0\n",
    "\n",
    "#Convert Blank COLLISIONTYPE to Unknown\n",
    "cleaned_collision_data[\"COLLISIONTYPE\"] = cleaned_collision_data[\"COLLISIONTYPE\"].fillna('Unknown')\n",
    "#cleaned_collision_data[\"COLLISIONTYPE\"].isnull().sum()\n",
    "\n",
    "#Convert Blank WEATHER to Unknown\n",
    "cleaned_collision_data[\"WEATHER\"] = cleaned_collision_data[\"WEATHER\"].fillna('Unknown')\n",
    "#cleaned_collision_data[\"WEATHER\"].isnull().sum()\n",
    "\n",
    "#Convert Blank Road Contitions to Unknown\n",
    "cleaned_collision_data[\"ROADCOND\"] = cleaned_collision_data[\"ROADCOND\"].fillna('Unknown')\n",
    "#cleaned_collision_data[\"ROADCOND\"].isnull().sum()\n",
    "\n",
    "#Convert Blank Light Contitions to Unknown\n",
    "cleaned_collision_data[\"LIGHTCOND\"] = cleaned_collision_data[\"LIGHTCOND\"].fillna('Unknown')\n",
    "#cleaned_collision_data[\"LIGHTCOND\"].isnull().sum()\n",
    "\n",
    "#Convert Description to Unknown\n",
    "cleaned_collision_data[\"ST_COLDESC\"] = cleaned_collision_data[\"ST_COLDESC\"].fillna('Unknown')\n",
    "#cleaned_collision_data[\"ST_COLDESC\"].isnull().sum()\n",
    "\n",
    "#Convert Blank JuntionType to Unknown\n",
    "cleaned_collision_data[\"JUNCTIONTYPE\"] = cleaned_collision_data[\"JUNCTIONTYPE\"].fillna('Unknown')\n",
    "#cleaned_collision_data[\"JUNCTIONTYPE\"].isnull().sum()\n",
    "\n",
    "#Drop Rows that do not have an address type\n",
    "cleaned_collision_data.dropna(subset = [\"ADDRTYPE\"], inplace=True)\n",
    "\n",
    "cleaned_collision_data.head()"
   ]
  },
  {
   "cell_type": "markdown",
   "metadata": {},
   "source": [
    "Now, let's take a look at the PERSONCOUNT column. There appear to be some outliers here. It is necessary to remove the outliers for analysis. "
   ]
  },
  {
   "cell_type": "code",
   "execution_count": 3,
   "metadata": {},
   "outputs": [
    {
     "name": "stdout",
     "output_type": "stream",
     "text": [
      "count    194673.000000\n",
      "mean          2.444427\n",
      "std           1.345929\n",
      "min           0.000000\n",
      "25%           2.000000\n",
      "50%           2.000000\n",
      "75%           3.000000\n",
      "max          81.000000\n",
      "Name: PERSONCOUNT, dtype: float64\n",
      "The 95th percentile of persons involved in an accident is  5.0\n"
     ]
    },
    {
     "data": {
      "image/png": "[encoded data removed]",
      "text/plain": [
       "<Figure size 432x288 with 1 Axes>"
      ]
     },
     "metadata": {
      "needs_background": "light"
     },
     "output_type": "display_data"
    }
   ],
   "source": [
    "#Understand outliers of the PERSONCOUNT Column\n",
    "the_95_percentile = raw_collision_data['PERSONCOUNT'].quantile(0.95)\n",
    "\n",
    "print(raw_collision_data['PERSONCOUNT'].describe())\n",
    "\n",
    "print(\"The 95th percentile of persons involved in an accident is \", the_95_percentile)\n",
    "\n",
    "plt.boxplot(raw_collision_data['PERSONCOUNT'])\n",
    "plt.show()"
   ]
  },
  {
   "cell_type": "markdown",
   "metadata": {},
   "source": [
    "Let's remove the PERSONCOUNT outliers using the trimming method.\n",
    "\n",
    "Since 95% of the accidents involve 5 or less people. Let's remove any accident that involves 6 people or more. "
   ]
  },
  {
   "cell_type": "code",
   "execution_count": 4,
   "metadata": {
    "scrolled": true
   },
   "outputs": [
    {
     "data": {
      "image/png": "[encoded data removed]",
      "text/plain": [
       "<Figure size 432x288 with 1 Axes>"
      ]
     },
     "metadata": {
      "needs_background": "light"
     },
     "output_type": "display_data"
    }
   ],
   "source": [
    "collision_data_persons_outlier = cleaned_collision_data[cleaned_collision_data['PERSONCOUNT'] < 6] \n",
    "plt.boxplot(collision_data_persons_outlier['PERSONCOUNT'])\n",
    "plt.title(\"Boxplot\")\n",
    "plt.show()"
   ]
  },
  {
   "cell_type": "markdown",
   "metadata": {},
   "source": [
    "Let's take a look at the accidents by severity description because our above analysis shows that the data is imbalanced. However, for our model, we want to prioritize accidents that have injured persons because those are the most important for first responders to get to. "
   ]
  },
  {
   "cell_type": "code",
   "execution_count": 5,
   "metadata": {},
   "outputs": [
    {
     "name": "stdout",
     "output_type": "stream",
     "text": [
      "1    132400\n",
      "2     55406\n",
      "Name: SEVERITYCODE, dtype: int64\n"
     ]
    },
    {
     "data": {
      "image/png": "[encoded data removed]",
      "text/plain": [
       "<Figure size 432x288 with 1 Axes>"
      ]
     },
     "metadata": {
      "needs_background": "light"
     },
     "output_type": "display_data"
    }
   ],
   "source": [
    "#See Accidents by Severity Description\n",
    "df_address_type = raw_collision_data['SEVERITYCODE'].value_counts()\n",
    "df_address_type.plot(kind=\"bar\")\n",
    "plt.title(\"Vehicle Accidents By Severity Type\")\n",
    "plt.xlabel(\"Severity Type\")\n",
    "plt.ylabel(\"Counts\")\n",
    "\n",
    "print(collision_data_persons_outlier['SEVERITYCODE'].value_counts())"
   ]
  },
  {
   "cell_type": "markdown",
   "metadata": {},
   "source": [
    "Based on the above histogram, it looks like the data is unbalanced. "
   ]
  },
  {
   "cell_type": "markdown",
   "metadata": {},
   "source": [
    "Let's balance it. Since the data set has so many valid records, it makes sense to undersample the property damage class (Class 1) "
   ]
  },
  {
   "cell_type": "code",
   "execution_count": 6,
   "metadata": {},
   "outputs": [
    {
     "data": {
      "text/plain": [
       "2    55406\n",
       "1    55406\n",
       "Name: SEVERITYCODE, dtype: int64"
      ]
     },
     "execution_count": 6,
     "metadata": {},
     "output_type": "execute_result"
    }
   ],
   "source": [
    "from sklearn.utils import resample\n",
    "\n",
    "# Separate majority and minority classes\n",
    "df_majority = collision_data_persons_outlier[collision_data_persons_outlier.SEVERITYCODE==1]\n",
    "df_minority = collision_data_persons_outlier[collision_data_persons_outlier.SEVERITYCODE==2]\n",
    " \n",
    "# Downsample majority class\n",
    "df_majority_downsampled = resample(df_majority, \n",
    "                                 replace=False,    # sample without replacement\n",
    "                                 n_samples=55406,     # to match minority class\n",
    "                                 random_state=123) # reproducible results\n",
    " \n",
    "# Combine minority class with downsampled majority class\n",
    "df_downsampled = pd.concat([df_majority_downsampled, df_minority])\n",
    " \n",
    "# Display new class counts\n",
    "df_downsampled.SEVERITYCODE.value_counts()"
   ]
  },
  {
   "cell_type": "markdown",
   "metadata": {},
   "source": [
    "# __Part III Data Analysis__"
   ]
  },
  {
   "cell_type": "markdown",
   "metadata": {},
   "source": [
    "Let's take a look at how weather (road conditions, weather conditions, and light conditions) conditions impact accident severity by creating a table of proportions for severity 1 and 2 accidents."
   ]
  },
  {
   "cell_type": "code",
   "execution_count": 7,
   "metadata": {},
   "outputs": [
    {
     "data": {
      "text/html": [
       "<div>\n",
       "<style scoped>\n",
       "    .dataframe tbody tr th:only-of-type {\n",
       "        vertical-align: middle;\n",
       "    }\n",
       "\n",
       "    .dataframe tbody tr th {\n",
       "        vertical-align: top;\n",
       "    }\n",
       "\n",
       "    .dataframe thead th {\n",
       "        text-align: right;\n",
       "    }\n",
       "</style>\n",
       "<table border=\"1\" class=\"dataframe\">\n",
       "  <thead>\n",
       "    <tr style=\"text-align: right;\">\n",
       "      <th>ROADCOND</th>\n",
       "      <th>Dry</th>\n",
       "      <th>Ice</th>\n",
       "      <th>Oil</th>\n",
       "      <th>Other</th>\n",
       "      <th>Sand/Mud/Dirt</th>\n",
       "      <th>Snow/Slush</th>\n",
       "      <th>Standing Water</th>\n",
       "      <th>Unknown</th>\n",
       "      <th>Wet</th>\n",
       "    </tr>\n",
       "  </thead>\n",
       "  <tbody>\n",
       "    <tr>\n",
       "      <th>SEVERITY_1</th>\n",
       "      <td>47.5%</td>\n",
       "      <td>59.4%</td>\n",
       "      <td>48.7%</td>\n",
       "      <td>46.1%</td>\n",
       "      <td>46.3%</td>\n",
       "      <td>68.9%</td>\n",
       "      <td>50.0%</td>\n",
       "      <td>80.2%</td>\n",
       "      <td>46.3%</td>\n",
       "    </tr>\n",
       "    <tr>\n",
       "      <th>SEVERITY_2</th>\n",
       "      <td>52.5%</td>\n",
       "      <td>40.6%</td>\n",
       "      <td>51.3%</td>\n",
       "      <td>53.9%</td>\n",
       "      <td>53.7%</td>\n",
       "      <td>31.1%</td>\n",
       "      <td>50.0%</td>\n",
       "      <td>19.8%</td>\n",
       "      <td>53.7%</td>\n",
       "    </tr>\n",
       "  </tbody>\n",
       "</table>\n",
       "</div>"
      ],
      "text/plain": [
       "ROADCOND      Dry    Ice    Oil  Other Sand/Mud/Dirt Snow/Slush  \\\n",
       "SEVERITY_1  47.5%  59.4%  48.7%  46.1%         46.3%      68.9%   \n",
       "SEVERITY_2  52.5%  40.6%  51.3%  53.9%         53.7%      31.1%   \n",
       "\n",
       "ROADCOND   Standing Water Unknown    Wet  \n",
       "SEVERITY_1          50.0%   80.2%  46.3%  \n",
       "SEVERITY_2          50.0%   19.8%  53.7%  "
      ]
     },
     "execution_count": 7,
     "metadata": {},
     "output_type": "execute_result"
    }
   ],
   "source": [
    "df_RoadConditions = df_downsampled[['ROADCOND','SEVERITYCODE']]\n",
    "df_RoadConditions_dummies = pd.get_dummies(df_RoadConditions.SEVERITYCODE, prefix='SEVERITY')\n",
    "df_RoadConditions = pd.concat([df_RoadConditions, df_RoadConditions_dummies], axis=1)\n",
    "df_RoadConditions = df_RoadConditions.drop(['SEVERITYCODE'], axis=1)\n",
    "df_RoadConditions.set_index('ROADCOND', inplace=True)\n",
    "df_RoadConditions  = df_RoadConditions.groupby(['ROADCOND']).sum()\n",
    "df_transposed_rc = df_RoadConditions.transpose()\n",
    "\n",
    "df_transposed_rc = (100. * df_transposed_rc / df_transposed_rc.sum()).round(1).astype(str) + '%'\n",
    "\n",
    "df_transposed_rc"
   ]
  },
  {
   "cell_type": "code",
   "execution_count": 8,
   "metadata": {
    "scrolled": true
   },
   "outputs": [
    {
     "data": {
      "text/html": [
       "<div>\n",
       "<style scoped>\n",
       "    .dataframe tbody tr th:only-of-type {\n",
       "        vertical-align: middle;\n",
       "    }\n",
       "\n",
       "    .dataframe tbody tr th {\n",
       "        vertical-align: top;\n",
       "    }\n",
       "\n",
       "    .dataframe thead th {\n",
       "        text-align: right;\n",
       "    }\n",
       "</style>\n",
       "<table border=\"1\" class=\"dataframe\">\n",
       "  <thead>\n",
       "    <tr style=\"text-align: right;\">\n",
       "      <th>WEATHER</th>\n",
       "      <th>Blowing Sand/Dirt</th>\n",
       "      <th>Clear</th>\n",
       "      <th>Fog/Smog/Smoke</th>\n",
       "      <th>Other</th>\n",
       "      <th>Overcast</th>\n",
       "      <th>Partly Cloudy</th>\n",
       "      <th>Raining</th>\n",
       "      <th>Severe Crosswind</th>\n",
       "      <th>Sleet/Hail/Freezing Rain</th>\n",
       "      <th>Snowing</th>\n",
       "      <th>Unknown</th>\n",
       "    </tr>\n",
       "  </thead>\n",
       "  <tbody>\n",
       "    <tr>\n",
       "      <th>SEVERITY_1</th>\n",
       "      <td>51.9%</td>\n",
       "      <td>47.4%</td>\n",
       "      <td>46.0%</td>\n",
       "      <td>71.2%</td>\n",
       "      <td>48.1%</td>\n",
       "      <td>25.0%</td>\n",
       "      <td>45.7%</td>\n",
       "      <td>53.8%</td>\n",
       "      <td>54.4%</td>\n",
       "      <td>66.0%</td>\n",
       "      <td>79.6%</td>\n",
       "    </tr>\n",
       "    <tr>\n",
       "      <th>SEVERITY_2</th>\n",
       "      <td>48.1%</td>\n",
       "      <td>52.6%</td>\n",
       "      <td>54.0%</td>\n",
       "      <td>28.8%</td>\n",
       "      <td>51.9%</td>\n",
       "      <td>75.0%</td>\n",
       "      <td>54.3%</td>\n",
       "      <td>46.2%</td>\n",
       "      <td>45.6%</td>\n",
       "      <td>34.0%</td>\n",
       "      <td>20.4%</td>\n",
       "    </tr>\n",
       "  </tbody>\n",
       "</table>\n",
       "</div>"
      ],
      "text/plain": [
       "WEATHER    Blowing Sand/Dirt  Clear Fog/Smog/Smoke  Other Overcast  \\\n",
       "SEVERITY_1             51.9%  47.4%          46.0%  71.2%    48.1%   \n",
       "SEVERITY_2             48.1%  52.6%          54.0%  28.8%    51.9%   \n",
       "\n",
       "WEATHER    Partly Cloudy Raining Severe Crosswind Sleet/Hail/Freezing Rain  \\\n",
       "SEVERITY_1         25.0%   45.7%            53.8%                    54.4%   \n",
       "SEVERITY_2         75.0%   54.3%            46.2%                    45.6%   \n",
       "\n",
       "WEATHER    Snowing Unknown  \n",
       "SEVERITY_1   66.0%   79.6%  \n",
       "SEVERITY_2   34.0%   20.4%  "
      ]
     },
     "execution_count": 8,
     "metadata": {},
     "output_type": "execute_result"
    }
   ],
   "source": [
    "df_Weather = df_downsampled[['WEATHER','SEVERITYCODE']]\n",
    "df_weather_dummies = pd.get_dummies(df_Weather.SEVERITYCODE, prefix='SEVERITY')\n",
    "df_Weather = pd.concat([df_Weather, df_weather_dummies], axis=1)\n",
    "df_Weather = df_Weather.drop(['SEVERITYCODE'], axis=1)\n",
    "df_Weather.set_index('WEATHER', inplace=True)\n",
    "df_Weather  = df_Weather.groupby(['WEATHER']).sum()\n",
    "df_transposed_w = df_Weather.transpose()\n",
    "\n",
    "df_transposed_w = (100. * df_transposed_w / df_transposed_w.sum()).round(1).astype(str) + '%'\n",
    "\n",
    "df_transposed_w"
   ]
  },
  {
   "cell_type": "code",
   "execution_count": 10,
   "metadata": {},
   "outputs": [
    {
     "data": {
      "text/html": [
       "<div>\n",
       "<style scoped>\n",
       "    .dataframe tbody tr th:only-of-type {\n",
       "        vertical-align: middle;\n",
       "    }\n",
       "\n",
       "    .dataframe tbody tr th {\n",
       "        vertical-align: top;\n",
       "    }\n",
       "\n",
       "    .dataframe thead th {\n",
       "        text-align: right;\n",
       "    }\n",
       "</style>\n",
       "<table border=\"1\" class=\"dataframe\">\n",
       "  <thead>\n",
       "    <tr style=\"text-align: right;\">\n",
       "      <th>LIGHTCOND</th>\n",
       "      <th>Dark - No Street Lights</th>\n",
       "      <th>Dark - Street Lights Off</th>\n",
       "      <th>Dark - Street Lights On</th>\n",
       "      <th>Dark - Unknown Lighting</th>\n",
       "      <th>Dawn</th>\n",
       "      <th>Daylight</th>\n",
       "      <th>Dusk</th>\n",
       "      <th>Other</th>\n",
       "      <th>Unknown</th>\n",
       "    </tr>\n",
       "  </thead>\n",
       "  <tbody>\n",
       "    <tr>\n",
       "      <th>SEVERITY_1</th>\n",
       "      <td>60.2%</td>\n",
       "      <td>55.1%</td>\n",
       "      <td>50.4%</td>\n",
       "      <td>50.0%</td>\n",
       "      <td>45.8%</td>\n",
       "      <td>46.3%</td>\n",
       "      <td>45.7%</td>\n",
       "      <td>60.3%</td>\n",
       "      <td>80.0%</td>\n",
       "    </tr>\n",
       "    <tr>\n",
       "      <th>SEVERITY_2</th>\n",
       "      <td>39.8%</td>\n",
       "      <td>44.9%</td>\n",
       "      <td>49.6%</td>\n",
       "      <td>50.0%</td>\n",
       "      <td>54.2%</td>\n",
       "      <td>53.7%</td>\n",
       "      <td>54.3%</td>\n",
       "      <td>39.7%</td>\n",
       "      <td>20.0%</td>\n",
       "    </tr>\n",
       "  </tbody>\n",
       "</table>\n",
       "</div>"
      ],
      "text/plain": [
       "LIGHTCOND  Dark - No Street Lights Dark - Street Lights Off  \\\n",
       "SEVERITY_1                   60.2%                    55.1%   \n",
       "SEVERITY_2                   39.8%                    44.9%   \n",
       "\n",
       "LIGHTCOND  Dark - Street Lights On Dark - Unknown Lighting   Dawn Daylight  \\\n",
       "SEVERITY_1                   50.4%                   50.0%  45.8%    46.3%   \n",
       "SEVERITY_2                   49.6%                   50.0%  54.2%    53.7%   \n",
       "\n",
       "LIGHTCOND    Dusk  Other Unknown  \n",
       "SEVERITY_1  45.7%  60.3%   80.0%  \n",
       "SEVERITY_2  54.3%  39.7%   20.0%  "
      ]
     },
     "execution_count": 10,
     "metadata": {},
     "output_type": "execute_result"
    }
   ],
   "source": [
    "df_LightCond = df_downsampled[['LIGHTCOND','SEVERITYCODE']]\n",
    "df_light_dummies = pd.get_dummies(df_LightCond.SEVERITYCODE, prefix='SEVERITY')\n",
    "df_LightCond = pd.concat([df_LightCond, df_light_dummies], axis=1)\n",
    "df_LightCond = df_LightCond.drop(['SEVERITYCODE'], axis=1)\n",
    "df_LightCond.set_index('LIGHTCOND', inplace=True)\n",
    "df_LightCond  = df_LightCond.groupby(['LIGHTCOND']).sum()\n",
    "df_transposed_l = df_LightCond.transpose()\n",
    "\n",
    "df_transposed_l = (100. * df_transposed_l / df_transposed_l.sum()).round(1).astype(str) + '%'\n",
    "\n",
    "df_transposed_l"
   ]
  },
  {
   "cell_type": "markdown",
   "metadata": {},
   "source": [
    "After considering the proportion of severity 1 and 2 accidents in different weather conditions, it appears that no weather condtion heavily increases the likelihood of severity 2 accidents. The proportions for nearly all conditions are close to 50/50. This indicates that weather, road and light conditions do not actually influence accident severity. This is important to note as it is counterintuitive. \n",
    "\n",
    "However, there are two notable exceptions to this observation. \n",
    "\n",
    "The first is snow conditions show 60% severity 1 accidents and 30% severity 2 accidents. This indicates the opposite of what one may naturally assume. Snow conditions do not cause more severity 2 accidents. We might explain this by saying that in the snow, people are more conscious of how they drive or are less likely to drive at all. Perhaps the most severe accidents occur when people are least prepared for it - in clear and dry conditions. \n",
    "\n",
    "Secondly, it appears that \"unkown\" weather, road, and light conditions are 80% severity 1 accidents. Perhaps this is because the weather was so mild the officer forgot to capture it in the report. Therefore, an accident with weather unknown is more likely to be a severity 1 accident. However, since there is no way to confirm this, it is best to exclude \"unkown\" and \"other\" categories from consideration. "
   ]
  },
  {
   "cell_type": "code",
   "execution_count": 12,
   "metadata": {},
   "outputs": [
    {
     "data": {
      "text/plain": [
       "SEVERITYCODE      101787\n",
       "X                 100055\n",
       "Y                 100055\n",
       "ADDRTYPE          101787\n",
       "SEVERITYDESC      101787\n",
       "COLLISIONTYPE     101787\n",
       "PERSONCOUNT       101787\n",
       "PEDCOUNT          101787\n",
       "PEDCYLCOUNT       101787\n",
       "VEHCOUNT          101787\n",
       "INCDTTM           101787\n",
       "JUNCTIONTYPE      101787\n",
       "SDOT_COLCODE      101787\n",
       "SDOT_COLDESC      101787\n",
       "INATTENTIONIND    101787\n",
       "UNDERINFL         101787\n",
       "WEATHER           101787\n",
       "ROADCOND          101787\n",
       "LIGHTCOND         101787\n",
       "PEDROWNOTGRNT     101787\n",
       "SPEEDING          101787\n",
       "ST_COLCODE        101770\n",
       "ST_COLDESC        101787\n",
       "SEGLANEKEY        101787\n",
       "CROSSWALKKEY      101787\n",
       "HITPARKEDCAR      101787\n",
       "dtype: int64"
      ]
     },
     "execution_count": 12,
     "metadata": {},
     "output_type": "execute_result"
    }
   ],
   "source": [
    "indexNames = df_downsampled[ df_downsampled['WEATHER'] == 'Unknown' ].index\n",
    "indexNames_1 = df_downsampled[ df_downsampled['ROADCOND'] == 'Unknown' ].index\n",
    "indexNames_2 = df_downsampled[ df_downsampled['LIGHTCOND'] == 'Unknown' ].index\n",
    "# Delete these row indexes from dataFrame\n",
    "#df_downsampled.count() 110812 total records\n",
    "#df_downsampled.drop(indexNames , inplace=True)\n",
    "#df_downsampled.drop(indexNames_1 , inplace=True)\n",
    "#df_downsampled.drop(indexNames_2 , inplace=True)\n",
    "df_downsampled.count()\n"
   ]
  },
  {
   "cell_type": "markdown",
   "metadata": {},
   "source": [
    "Next, let's look at the juntion type."
   ]
  },
  {
   "cell_type": "code",
   "execution_count": 13,
   "metadata": {},
   "outputs": [
    {
     "data": {
      "text/plain": [
       "<matplotlib.axes._subplots.AxesSubplot at 0x1a4984c0808>"
      ]
     },
     "execution_count": 13,
     "metadata": {},
     "output_type": "execute_result"
    },
    {
     "data": {
      "image/png": "[encoded data removed]",
      "text/plain": [
       "<Figure size 432x288 with 1 Axes>"
      ]
     },
     "metadata": {
      "needs_background": "light"
     },
     "output_type": "display_data"
    }
   ],
   "source": [
    "df_junctiontype = df_downsampled[['JUNCTIONTYPE','SEVERITYCODE']]\n",
    "df_junctiontype_dummies = pd.get_dummies(df_junctiontype.SEVERITYCODE, prefix='SEVERITY')\n",
    "df_junctiontype = pd.concat([df_junctiontype, df_junctiontype_dummies], axis=1)\n",
    "df_junctiontype = df_junctiontype.drop(['SEVERITYCODE'], axis=1)\n",
    "df_junctiontype.set_index('JUNCTIONTYPE', inplace=True)\n",
    "df  = df_junctiontype.groupby(['JUNCTIONTYPE']).sum()\n",
    "df[['SEVERITY_1','SEVERITY_2']].plot(kind='bar', stacked=True)"
   ]
  },
  {
   "cell_type": "markdown",
   "metadata": {},
   "source": [
    "Most accidents occur at a midblock or at an intersection. However, the proportion of severity 2 accidents is slightly higher than 50%. Therefore, these juntion types seem like a good predictor of accident severity. "
   ]
  },
  {
   "cell_type": "markdown",
   "metadata": {},
   "source": [
    "Let's do the same analysis for collision type."
   ]
  },
  {
   "cell_type": "code",
   "execution_count": 14,
   "metadata": {
    "scrolled": true
   },
   "outputs": [
    {
     "data": {
      "text/plain": [
       "<matplotlib.axes._subplots.AxesSubplot at 0x1a499c51b48>"
      ]
     },
     "execution_count": 14,
     "metadata": {},
     "output_type": "execute_result"
    },
    {
     "data": {
      "image/png": "[encoded data removed]",
      "text/plain": [
       "<Figure size 432x288 with 1 Axes>"
      ]
     },
     "metadata": {
      "needs_background": "light"
     },
     "output_type": "display_data"
    }
   ],
   "source": [
    "df_collisiontype = df_downsampled[['COLLISIONTYPE','SEVERITYCODE']]\n",
    "df_collisiontype_dummies = pd.get_dummies(df_collisiontype.SEVERITYCODE, prefix='SEVERITY')\n",
    "df_collisiontype = pd.concat([df_collisiontype, df_collisiontype_dummies], axis=1)\n",
    "df_collisiontype = df_collisiontype.drop(['SEVERITYCODE'], axis=1)\n",
    "df_collisiontype.set_index('COLLISIONTYPE', inplace=True)\n",
    "df  = df_collisiontype.groupby(['COLLISIONTYPE']).sum()\n",
    "df[['SEVERITY_1','SEVERITY_2']].plot(kind='bar', stacked=True)\n"
   ]
  },
  {
   "cell_type": "markdown",
   "metadata": {},
   "source": [
    "This graph gives us some good insights. It looks like nearly all accidents with a parked car, side swipes, and right turns are severity 1. This makes sense as they are most likely fender benders with cars moving at slow speed. \n",
    "\n",
    "Read ended and angles show more than half of accidents are severity 2. So these types of accidents are a good predictor of severity 2 accidents. \n",
    "\n",
    "Lastly and most importantly, cycles and pedestrian have overwhelmingly severity 2 accidents. This makes sense because these most likely involve a car hitting a person or a bike. Therefore, these two categories are great predictors of severity 2 accidents. "
   ]
  },
  {
   "cell_type": "code",
   "execution_count": 15,
   "metadata": {},
   "outputs": [
    {
     "data": {
      "text/plain": [
       "<matplotlib.axes._subplots.AxesSubplot at 0x1a499d0a4c8>"
      ]
     },
     "execution_count": 15,
     "metadata": {},
     "output_type": "execute_result"
    },
    {
     "data": {
      "image/png": "[encoded data removed]",
      "text/plain": [
       "<Figure size 432x288 with 1 Axes>"
      ]
     },
     "metadata": {
      "needs_background": "light"
     },
     "output_type": "display_data"
    }
   ],
   "source": [
    "df_collisiontype = df_downsampled[['ADDRTYPE','SEVERITYCODE']]\n",
    "df_collisiontype_dummies = pd.get_dummies(df_collisiontype.SEVERITYCODE, prefix='SEVERITY')\n",
    "df_collisiontype = pd.concat([df_collisiontype, df_collisiontype_dummies], axis=1)\n",
    "df_collisiontype = df_collisiontype.drop(['SEVERITYCODE'], axis=1)\n",
    "df_collisiontype.set_index('ADDRTYPE', inplace=True)\n",
    "df  = df_collisiontype.groupby(['ADDRTYPE']).sum()\n",
    "df[['SEVERITY_1','SEVERITY_2']].plot(kind='bar', stacked=True)"
   ]
  },
  {
   "cell_type": "code",
   "execution_count": 114,
   "metadata": {},
   "outputs": [
    {
     "data": {
      "text/plain": [
       "<matplotlib.axes._subplots.AxesSubplot at 0x2a102ad08c8>"
      ]
     },
     "execution_count": 114,
     "metadata": {},
     "output_type": "execute_result"
    },
    {
     "data": {
      "image/png": "[encoded data removed]",
      "text/plain": [
       "<Figure size 432x288 with 1 Axes>"
      ]
     },
     "metadata": {
      "needs_background": "light"
     },
     "output_type": "display_data"
    }
   ],
   "source": [
    "df_collisiontype = df_downsampled[['ST_COLCODE','SEVERITYCODE']]\n",
    "df_collisiontype_dummies = pd.get_dummies(df_collisiontype.SEVERITYCODE, prefix='SEVERITY')\n",
    "df_collisiontype = pd.concat([df_collisiontype, df_collisiontype_dummies], axis=1)\n",
    "df_collisiontype = df_collisiontype.drop(['SEVERITYCODE'], axis=1)\n",
    "df_collisiontype.set_index('ST_COLCODE', inplace=True)\n",
    "df  = df_collisiontype.groupby(['ST_COLCODE']).sum()\n",
    "df[['SEVERITY_1','SEVERITY_2']].plot(kind='bar', stacked=True)"
   ]
  },
  {
   "cell_type": "markdown",
   "metadata": {},
   "source": [
    "Lastly, let's try to visualize the data geospatially using X,Y coordinates"
   ]
  },
  {
   "cell_type": "code",
   "execution_count": 16,
   "metadata": {},
   "outputs": [],
   "source": [
    "#Remove data with no geocoordinate data\n",
    "df_coordinates = df_downsampled.dropna(subset=['X'])\n",
    "limit = 100 #change limit...larger the limit the longer it takes to plot\n",
    "df_coordinates = df_coordinates.iloc[0:limit, :]"
   ]
  },
  {
   "cell_type": "code",
   "execution_count": 14,
   "metadata": {},
   "outputs": [
    {
     "name": "stdout",
     "output_type": "stream",
     "text": [
      "Collecting package metadata (current_repodata.json): ...working... done\n",
      "Solving environment: ...working... done\n",
      "\n",
      "## Package Plan ##\n",
      "\n",
      "  environment location: C:\\Users\\71062489\\Anaconda3\n",
      "\n",
      "  added / updated specs:\n",
      "    - folium=0.5.0\n",
      "\n",
      "\n",
      "The following packages will be downloaded:\n",
      "\n",
      "    package                    |            build\n",
      "    ---------------------------|-----------------\n",
      "    conda-4.8.5                |   py37hf50a25e_2         3.0 MB  conda-forge\n",
      "    ------------------------------------------------------------\n",
      "                                           Total:         3.0 MB\n",
      "\n",
      "The following packages will be UPDATED:\n",
      "\n",
      "  conda                                4.8.5-py37hc8dfbb8_1 --> 4.8.5-py37hf50a25e_2\n",
      "\n",
      "\n",
      "\n",
      "Downloading and Extracting Packages\n",
      "\n",
      "conda-4.8.5          | 3.0 MB    |            |   0% \n",
      "conda-4.8.5          | 3.0 MB    |            |   1% \n",
      "conda-4.8.5          | 3.0 MB    | #4         |  14% \n",
      "conda-4.8.5          | 3.0 MB    | ##8        |  28% \n",
      "conda-4.8.5          | 3.0 MB    | #####2     |  52% \n",
      "conda-4.8.5          | 3.0 MB    | ######8    |  68% \n",
      "conda-4.8.5          | 3.0 MB    | ########9  |  90% \n",
      "conda-4.8.5          | 3.0 MB    | ########## | 100% \n",
      "Preparing transaction: ...working... done\n",
      "Verifying transaction: ...working... done\n",
      "Executing transaction: ...working... done\n",
      "Folium installed and imported!\n"
     ]
    }
   ],
   "source": [
    "#import folium\n",
    "!conda install -c conda-forge folium=0.5.0 --yes\n",
    "import folium\n",
    "\n",
    "print('Folium installed and imported!')"
   ]
  },
  {
   "cell_type": "code",
   "execution_count": 15,
   "metadata": {},
   "outputs": [
    {
     "data": {
      "text/html": [
       "<div style=\"width:100%;\"><div style=\"position:relative;width:100%;height:0;padding-bottom:60%;\"><span style=\"color:#565656\">Make this Notebook Trusted to load map: File -> Trust Notebook</span><iframe src=\"about:blank\" style=\"position:absolute;width:100%;height:100%;left:0;top:0;border:none !important;\" data-html=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 onload=\"this.contentDocument.open();this.contentDocument.write(atob(this.getAttribute('data-html')));this.contentDocument.close();\" allowfullscreen webkitallowfullscreen mozallowfullscreen></iframe></div></div>"
      ],
      "text/plain": [
       "<folium.folium.Map at 0x2a27670e5c8>"
      ]
     },
     "execution_count": 15,
     "metadata": {},
     "output_type": "execute_result"
    }
   ],
   "source": [
    "# define the world map centered around US\n",
    "us_map = folium.Map(location=[47.6062, -122.3321], zoom_start=8)\n",
    "\n",
    "# instantiate a feature group for the incidents in the dataframe\n",
    "accidents = folium.map.FeatureGroup()\n",
    "\n",
    "# loop through the 100 crimes and add each to the incidents feature group\n",
    "for lat, lng, in zip(df_coordinates.Y, df_coordinates.X):\n",
    "    accidents.add_child(\n",
    "        folium.features.CircleMarker(\n",
    "            [lat, lng],\n",
    "            radius=5, # define how big you want the circle markers to be\n",
    "            color='yellow',\n",
    "            fill=True,\n",
    "            fill_color='blue',\n",
    "            fill_opacity=0.6\n",
    "        )\n",
    "    )\n",
    "\n",
    "# add pop-up text to each marker on the map\n",
    "latitudes = list(df_coordinates.Y)\n",
    "longitudes = list(df_coordinates.X)\n",
    "#labels = list(df_coordinates.Category)\n",
    "\n",
    "for lat, lng in zip(latitudes, longitudes):\n",
    "    folium.Marker([lat, lng]).add_to(us_map)    \n",
    "    \n",
    "# add incidents to map\n",
    "us_map.add_child(accidents)"
   ]
  },
  {
   "cell_type": "markdown",
   "metadata": {},
   "source": [
    "It looks like the accident data is centered around the Seattle area. This is good to know for our model because perhaps our model can be extended to the data of other large US cities. "
   ]
  },
  {
   "cell_type": "markdown",
   "metadata": {},
   "source": [
    "# __Part IV Modelling__"
   ]
  },
  {
   "cell_type": "markdown",
   "metadata": {},
   "source": [
    "Through our initial analysis we've gotten some really good insights. First, that perhaps weather is not as influential as intuitively thought. Second, that junction type and collision type are good predictors of accident severity. We will use this information in our models."
   ]
  },
  {
   "cell_type": "markdown",
   "metadata": {},
   "source": [
    "Before we can build the model we first need to hot encode the attributes that are needed:\n",
    "ADDRTYPE, SEVERITYDESC, COLLISIONTYPE, JUNCTIONTYPE"
   ]
  },
  {
   "cell_type": "code",
   "execution_count": 17,
   "metadata": {
    "scrolled": true
   },
   "outputs": [
    {
     "data": {
      "text/html": [
       "<div>\n",
       "<style scoped>\n",
       "    .dataframe tbody tr th:only-of-type {\n",
       "        vertical-align: middle;\n",
       "    }\n",
       "\n",
       "    .dataframe tbody tr th {\n",
       "        vertical-align: top;\n",
       "    }\n",
       "\n",
       "    .dataframe thead th {\n",
       "        text-align: right;\n",
       "    }\n",
       "</style>\n",
       "<table border=\"1\" class=\"dataframe\">\n",
       "  <thead>\n",
       "    <tr style=\"text-align: right;\">\n",
       "      <th></th>\n",
       "      <th>SEVERITYCODE</th>\n",
       "      <th>X</th>\n",
       "      <th>Y</th>\n",
       "      <th>PERSONCOUNT</th>\n",
       "      <th>PEDCOUNT</th>\n",
       "      <th>PEDCYLCOUNT</th>\n",
       "      <th>VEHCOUNT</th>\n",
       "      <th>INCDTTM</th>\n",
       "      <th>SDOT_COLCODE</th>\n",
       "      <th>SDOT_COLDESC</th>\n",
       "      <th>...</th>\n",
       "      <th>ST_COLDESC_Vehicle Strikes Pedalcyclist</th>\n",
       "      <th>ST_COLDESC_Vehicle Strikes Railway Vehicle</th>\n",
       "      <th>ST_COLDESC_Vehicle Struck by City Road or Construction Machinery</th>\n",
       "      <th>ST_COLDESC_Vehicle Struck by Other Road or Construction Machinery</th>\n",
       "      <th>ST_COLDESC_Vehicle backing hits pedestrian</th>\n",
       "      <th>ST_COLDESC_Vehicle going straight hits pedestrian</th>\n",
       "      <th>ST_COLDESC_Vehicle hits Pedestrian - All Other Actions</th>\n",
       "      <th>ST_COLDESC_Vehicle overturned</th>\n",
       "      <th>ST_COLDESC_Vehicle turning left hits pedestrian</th>\n",
       "      <th>ST_COLDESC_Vehicle turning right hits pedestrian</th>\n",
       "    </tr>\n",
       "  </thead>\n",
       "  <tbody>\n",
       "    <tr>\n",
       "      <th>36725</th>\n",
       "      <td>1</td>\n",
       "      <td>NaN</td>\n",
       "      <td>NaN</td>\n",
       "      <td>2</td>\n",
       "      <td>0</td>\n",
       "      <td>0</td>\n",
       "      <td>2</td>\n",
       "      <td>12/5/2006</td>\n",
       "      <td>0</td>\n",
       "      <td>NOT ENOUGH INFORMATION / NOT APPLICABLE</td>\n",
       "      <td>...</td>\n",
       "      <td>0</td>\n",
       "      <td>0</td>\n",
       "      <td>0</td>\n",
       "      <td>0</td>\n",
       "      <td>0</td>\n",
       "      <td>0</td>\n",
       "      <td>0</td>\n",
       "      <td>0</td>\n",
       "      <td>0</td>\n",
       "      <td>0</td>\n",
       "    </tr>\n",
       "    <tr>\n",
       "      <th>37637</th>\n",
       "      <td>1</td>\n",
       "      <td>-122.325893</td>\n",
       "      <td>47.638987</td>\n",
       "      <td>2</td>\n",
       "      <td>0</td>\n",
       "      <td>0</td>\n",
       "      <td>2</td>\n",
       "      <td>2/13/2006 15:52</td>\n",
       "      <td>14</td>\n",
       "      <td>MOTOR VEHICLE STRUCK MOTOR VEHICLE, REAR END</td>\n",
       "      <td>...</td>\n",
       "      <td>0</td>\n",
       "      <td>0</td>\n",
       "      <td>0</td>\n",
       "      <td>0</td>\n",
       "      <td>0</td>\n",
       "      <td>0</td>\n",
       "      <td>0</td>\n",
       "      <td>0</td>\n",
       "      <td>0</td>\n",
       "      <td>0</td>\n",
       "    </tr>\n",
       "    <tr>\n",
       "      <th>126434</th>\n",
       "      <td>1</td>\n",
       "      <td>-122.321393</td>\n",
       "      <td>47.585854</td>\n",
       "      <td>2</td>\n",
       "      <td>0</td>\n",
       "      <td>0</td>\n",
       "      <td>2</td>\n",
       "      <td>12/11/2013 7:06</td>\n",
       "      <td>11</td>\n",
       "      <td>MOTOR VEHICLE STRUCK MOTOR VEHICLE, FRONT END ...</td>\n",
       "      <td>...</td>\n",
       "      <td>0</td>\n",
       "      <td>0</td>\n",
       "      <td>0</td>\n",
       "      <td>0</td>\n",
       "      <td>0</td>\n",
       "      <td>0</td>\n",
       "      <td>0</td>\n",
       "      <td>0</td>\n",
       "      <td>0</td>\n",
       "      <td>0</td>\n",
       "    </tr>\n",
       "    <tr>\n",
       "      <th>66746</th>\n",
       "      <td>1</td>\n",
       "      <td>-122.388130</td>\n",
       "      <td>47.562042</td>\n",
       "      <td>2</td>\n",
       "      <td>0</td>\n",
       "      <td>0</td>\n",
       "      <td>2</td>\n",
       "      <td>7/12/2008 11:40</td>\n",
       "      <td>16</td>\n",
       "      <td>MOTOR VEHICLE STRUCK MOTOR VEHICLE, LEFT SIDE ...</td>\n",
       "      <td>...</td>\n",
       "      <td>0</td>\n",
       "      <td>0</td>\n",
       "      <td>0</td>\n",
       "      <td>0</td>\n",
       "      <td>0</td>\n",
       "      <td>0</td>\n",
       "      <td>0</td>\n",
       "      <td>0</td>\n",
       "      <td>0</td>\n",
       "      <td>0</td>\n",
       "    </tr>\n",
       "    <tr>\n",
       "      <th>150325</th>\n",
       "      <td>1</td>\n",
       "      <td>-122.371320</td>\n",
       "      <td>47.571477</td>\n",
       "      <td>2</td>\n",
       "      <td>0</td>\n",
       "      <td>0</td>\n",
       "      <td>2</td>\n",
       "      <td>12/30/2015 16:00</td>\n",
       "      <td>14</td>\n",
       "      <td>MOTOR VEHICLE STRUCK MOTOR VEHICLE, REAR END</td>\n",
       "      <td>...</td>\n",
       "      <td>0</td>\n",
       "      <td>0</td>\n",
       "      <td>0</td>\n",
       "      <td>0</td>\n",
       "      <td>0</td>\n",
       "      <td>0</td>\n",
       "      <td>0</td>\n",
       "      <td>0</td>\n",
       "      <td>0</td>\n",
       "      <td>0</td>\n",
       "    </tr>\n",
       "  </tbody>\n",
       "</table>\n",
       "<p>5 rows × 102 columns</p>\n",
       "</div>"
      ],
      "text/plain": [
       "        SEVERITYCODE           X          Y  PERSONCOUNT  PEDCOUNT  \\\n",
       "36725              1         NaN        NaN            2         0   \n",
       "37637              1 -122.325893  47.638987            2         0   \n",
       "126434             1 -122.321393  47.585854            2         0   \n",
       "66746              1 -122.388130  47.562042            2         0   \n",
       "150325             1 -122.371320  47.571477            2         0   \n",
       "\n",
       "        PEDCYLCOUNT  VEHCOUNT           INCDTTM  SDOT_COLCODE  \\\n",
       "36725             0         2         12/5/2006             0   \n",
       "37637             0         2   2/13/2006 15:52            14   \n",
       "126434            0         2   12/11/2013 7:06            11   \n",
       "66746             0         2   7/12/2008 11:40            16   \n",
       "150325            0         2  12/30/2015 16:00            14   \n",
       "\n",
       "                                             SDOT_COLDESC  ...  \\\n",
       "36725             NOT ENOUGH INFORMATION / NOT APPLICABLE  ...   \n",
       "37637        MOTOR VEHICLE STRUCK MOTOR VEHICLE, REAR END  ...   \n",
       "126434  MOTOR VEHICLE STRUCK MOTOR VEHICLE, FRONT END ...  ...   \n",
       "66746   MOTOR VEHICLE STRUCK MOTOR VEHICLE, LEFT SIDE ...  ...   \n",
       "150325       MOTOR VEHICLE STRUCK MOTOR VEHICLE, REAR END  ...   \n",
       "\n",
       "       ST_COLDESC_Vehicle Strikes Pedalcyclist  \\\n",
       "36725                                        0   \n",
       "37637                                        0   \n",
       "126434                                       0   \n",
       "66746                                        0   \n",
       "150325                                       0   \n",
       "\n",
       "        ST_COLDESC_Vehicle Strikes Railway Vehicle  \\\n",
       "36725                                            0   \n",
       "37637                                            0   \n",
       "126434                                           0   \n",
       "66746                                            0   \n",
       "150325                                           0   \n",
       "\n",
       "        ST_COLDESC_Vehicle Struck by City Road or Construction Machinery  \\\n",
       "36725                                                   0                  \n",
       "37637                                                   0                  \n",
       "126434                                                  0                  \n",
       "66746                                                   0                  \n",
       "150325                                                  0                  \n",
       "\n",
       "       ST_COLDESC_Vehicle Struck by Other Road or Construction Machinery  \\\n",
       "36725                                                   0                  \n",
       "37637                                                   0                  \n",
       "126434                                                  0                  \n",
       "66746                                                   0                  \n",
       "150325                                                  0                  \n",
       "\n",
       "       ST_COLDESC_Vehicle backing hits pedestrian  \\\n",
       "36725                                           0   \n",
       "37637                                           0   \n",
       "126434                                          0   \n",
       "66746                                           0   \n",
       "150325                                          0   \n",
       "\n",
       "        ST_COLDESC_Vehicle going straight hits pedestrian  \\\n",
       "36725                                                   0   \n",
       "37637                                                   0   \n",
       "126434                                                  0   \n",
       "66746                                                   0   \n",
       "150325                                                  0   \n",
       "\n",
       "        ST_COLDESC_Vehicle hits Pedestrian - All Other Actions  \\\n",
       "36725                                                   0        \n",
       "37637                                                   0        \n",
       "126434                                                  0        \n",
       "66746                                                   0        \n",
       "150325                                                  0        \n",
       "\n",
       "       ST_COLDESC_Vehicle overturned  \\\n",
       "36725                              0   \n",
       "37637                              0   \n",
       "126434                             0   \n",
       "66746                              0   \n",
       "150325                             0   \n",
       "\n",
       "        ST_COLDESC_Vehicle turning left hits pedestrian  \\\n",
       "36725                                                 0   \n",
       "37637                                                 0   \n",
       "126434                                                0   \n",
       "66746                                                 0   \n",
       "150325                                                0   \n",
       "\n",
       "        ST_COLDESC_Vehicle turning right hits pedestrian  \n",
       "36725                                                  0  \n",
       "37637                                                  0  \n",
       "126434                                                 0  \n",
       "66746                                                  0  \n",
       "150325                                                 0  \n",
       "\n",
       "[5 rows x 102 columns]"
      ]
     },
     "execution_count": 17,
     "metadata": {},
     "output_type": "execute_result"
    }
   ],
   "source": [
    "hot_encode_ADDRTYPE = pd.get_dummies(df_downsampled.ADDRTYPE, prefix='ADDRTYPE')\n",
    "#print(hot_encode_ADDRTYPE.head())\n",
    "\n",
    "hot_encode_SEVERITYDESC = pd.get_dummies(df_downsampled.SEVERITYDESC, prefix='SEVERITYDESC')\n",
    "#print(hot_encode_SEVERITYDESC.head())\n",
    "\n",
    "hot_encode_COLLISIONTYPE = pd.get_dummies(df_downsampled.COLLISIONTYPE, prefix='COLLISIONTYPE')\n",
    "#print(hot_encode_COLLISIONTYPE.head())\n",
    "\n",
    "hot_encode_JUNCTIONTYPE = pd.get_dummies(df_downsampled.JUNCTIONTYPE, prefix='JUNCTIONTYPE')\n",
    "#print(hot_encode_JUNCTIONTYPE.head())\n",
    "\n",
    "hot_encode_ST_COLDESC = pd.get_dummies(df_downsampled.ST_COLDESC, prefix='ST_COLDESC')\n",
    "#print(hot_encode_ST_COLDESC.head())\n",
    "\n",
    "     \n",
    "hot_encoded_collision_data = pd.concat([df_downsampled,hot_encode_ADDRTYPE,hot_encode_SEVERITYDESC,hot_encode_COLLISIONTYPE,hot_encode_JUNCTIONTYPE,hot_encode_ST_COLDESC],axis=1)\n",
    "hc_collisiondata = hot_encoded_collision_data.drop(['ADDRTYPE','SEVERITYDESC','COLLISIONTYPE','WEATHER','ROADCOND','LIGHTCOND','JUNCTIONTYPE','ST_COLDESC'], axis=1)\n",
    "hc_collisiondata.head()"
   ]
  },
  {
   "cell_type": "markdown",
   "metadata": {},
   "source": [
    "Before we train a machine learning model, let's create a new dataframe which contains only those attribtutes which will be useful for the model. "
   ]
  },
  {
   "cell_type": "code",
   "execution_count": 21,
   "metadata": {
    "scrolled": true
   },
   "outputs": [
    {
     "data": {
      "text/html": [
       "<div>\n",
       "<style scoped>\n",
       "    .dataframe tbody tr th:only-of-type {\n",
       "        vertical-align: middle;\n",
       "    }\n",
       "\n",
       "    .dataframe tbody tr th {\n",
       "        vertical-align: top;\n",
       "    }\n",
       "\n",
       "    .dataframe thead th {\n",
       "        text-align: right;\n",
       "    }\n",
       "</style>\n",
       "<table border=\"1\" class=\"dataframe\">\n",
       "  <thead>\n",
       "    <tr style=\"text-align: right;\">\n",
       "      <th></th>\n",
       "      <th>SEVERITYCODE</th>\n",
       "      <th>PERSONCOUNT</th>\n",
       "      <th>COLLISIONTYPE_Angles</th>\n",
       "      <th>COLLISIONTYPE_Cycles</th>\n",
       "      <th>COLLISIONTYPE_Head On</th>\n",
       "      <th>COLLISIONTYPE_Left Turn</th>\n",
       "      <th>COLLISIONTYPE_Other</th>\n",
       "      <th>COLLISIONTYPE_Parked Car</th>\n",
       "      <th>COLLISIONTYPE_Pedestrian</th>\n",
       "      <th>COLLISIONTYPE_Rear Ended</th>\n",
       "      <th>...</th>\n",
       "      <th>ST_COLDESC_Vehicle Strikes Pedalcyclist</th>\n",
       "      <th>ST_COLDESC_Vehicle Strikes Railway Vehicle</th>\n",
       "      <th>ST_COLDESC_Vehicle Struck by City Road or Construction Machinery</th>\n",
       "      <th>ST_COLDESC_Vehicle Struck by Other Road or Construction Machinery</th>\n",
       "      <th>ST_COLDESC_Vehicle backing hits pedestrian</th>\n",
       "      <th>ST_COLDESC_Vehicle going straight hits pedestrian</th>\n",
       "      <th>ST_COLDESC_Vehicle hits Pedestrian - All Other Actions</th>\n",
       "      <th>ST_COLDESC_Vehicle overturned</th>\n",
       "      <th>ST_COLDESC_Vehicle turning left hits pedestrian</th>\n",
       "      <th>ST_COLDESC_Vehicle turning right hits pedestrian</th>\n",
       "    </tr>\n",
       "  </thead>\n",
       "  <tbody>\n",
       "    <tr>\n",
       "      <th>36725</th>\n",
       "      <td>1</td>\n",
       "      <td>2</td>\n",
       "      <td>0</td>\n",
       "      <td>0</td>\n",
       "      <td>0</td>\n",
       "      <td>0</td>\n",
       "      <td>0</td>\n",
       "      <td>1</td>\n",
       "      <td>0</td>\n",
       "      <td>0</td>\n",
       "      <td>...</td>\n",
       "      <td>0</td>\n",
       "      <td>0</td>\n",
       "      <td>0</td>\n",
       "      <td>0</td>\n",
       "      <td>0</td>\n",
       "      <td>0</td>\n",
       "      <td>0</td>\n",
       "      <td>0</td>\n",
       "      <td>0</td>\n",
       "      <td>0</td>\n",
       "    </tr>\n",
       "    <tr>\n",
       "      <th>37637</th>\n",
       "      <td>1</td>\n",
       "      <td>2</td>\n",
       "      <td>0</td>\n",
       "      <td>0</td>\n",
       "      <td>0</td>\n",
       "      <td>0</td>\n",
       "      <td>0</td>\n",
       "      <td>0</td>\n",
       "      <td>0</td>\n",
       "      <td>1</td>\n",
       "      <td>...</td>\n",
       "      <td>0</td>\n",
       "      <td>0</td>\n",
       "      <td>0</td>\n",
       "      <td>0</td>\n",
       "      <td>0</td>\n",
       "      <td>0</td>\n",
       "      <td>0</td>\n",
       "      <td>0</td>\n",
       "      <td>0</td>\n",
       "      <td>0</td>\n",
       "    </tr>\n",
       "    <tr>\n",
       "      <th>126434</th>\n",
       "      <td>1</td>\n",
       "      <td>2</td>\n",
       "      <td>0</td>\n",
       "      <td>0</td>\n",
       "      <td>0</td>\n",
       "      <td>0</td>\n",
       "      <td>0</td>\n",
       "      <td>0</td>\n",
       "      <td>0</td>\n",
       "      <td>0</td>\n",
       "      <td>...</td>\n",
       "      <td>0</td>\n",
       "      <td>0</td>\n",
       "      <td>0</td>\n",
       "      <td>0</td>\n",
       "      <td>0</td>\n",
       "      <td>0</td>\n",
       "      <td>0</td>\n",
       "      <td>0</td>\n",
       "      <td>0</td>\n",
       "      <td>0</td>\n",
       "    </tr>\n",
       "    <tr>\n",
       "      <th>66746</th>\n",
       "      <td>1</td>\n",
       "      <td>2</td>\n",
       "      <td>0</td>\n",
       "      <td>0</td>\n",
       "      <td>0</td>\n",
       "      <td>0</td>\n",
       "      <td>0</td>\n",
       "      <td>1</td>\n",
       "      <td>0</td>\n",
       "      <td>0</td>\n",
       "      <td>...</td>\n",
       "      <td>0</td>\n",
       "      <td>0</td>\n",
       "      <td>0</td>\n",
       "      <td>0</td>\n",
       "      <td>0</td>\n",
       "      <td>0</td>\n",
       "      <td>0</td>\n",
       "      <td>0</td>\n",
       "      <td>0</td>\n",
       "      <td>0</td>\n",
       "    </tr>\n",
       "    <tr>\n",
       "      <th>150325</th>\n",
       "      <td>1</td>\n",
       "      <td>2</td>\n",
       "      <td>0</td>\n",
       "      <td>0</td>\n",
       "      <td>0</td>\n",
       "      <td>0</td>\n",
       "      <td>0</td>\n",
       "      <td>0</td>\n",
       "      <td>0</td>\n",
       "      <td>1</td>\n",
       "      <td>...</td>\n",
       "      <td>0</td>\n",
       "      <td>0</td>\n",
       "      <td>0</td>\n",
       "      <td>0</td>\n",
       "      <td>0</td>\n",
       "      <td>0</td>\n",
       "      <td>0</td>\n",
       "      <td>0</td>\n",
       "      <td>0</td>\n",
       "      <td>0</td>\n",
       "    </tr>\n",
       "    <tr>\n",
       "      <th>...</th>\n",
       "      <td>...</td>\n",
       "      <td>...</td>\n",
       "      <td>...</td>\n",
       "      <td>...</td>\n",
       "      <td>...</td>\n",
       "      <td>...</td>\n",
       "      <td>...</td>\n",
       "      <td>...</td>\n",
       "      <td>...</td>\n",
       "      <td>...</td>\n",
       "      <td>...</td>\n",
       "      <td>...</td>\n",
       "      <td>...</td>\n",
       "      <td>...</td>\n",
       "      <td>...</td>\n",
       "      <td>...</td>\n",
       "      <td>...</td>\n",
       "      <td>...</td>\n",
       "      <td>...</td>\n",
       "      <td>...</td>\n",
       "      <td>...</td>\n",
       "    </tr>\n",
       "    <tr>\n",
       "      <th>194663</th>\n",
       "      <td>2</td>\n",
       "      <td>3</td>\n",
       "      <td>1</td>\n",
       "      <td>0</td>\n",
       "      <td>0</td>\n",
       "      <td>0</td>\n",
       "      <td>0</td>\n",
       "      <td>0</td>\n",
       "      <td>0</td>\n",
       "      <td>0</td>\n",
       "      <td>...</td>\n",
       "      <td>0</td>\n",
       "      <td>0</td>\n",
       "      <td>0</td>\n",
       "      <td>0</td>\n",
       "      <td>0</td>\n",
       "      <td>0</td>\n",
       "      <td>0</td>\n",
       "      <td>0</td>\n",
       "      <td>0</td>\n",
       "      <td>0</td>\n",
       "    </tr>\n",
       "    <tr>\n",
       "      <th>194666</th>\n",
       "      <td>2</td>\n",
       "      <td>2</td>\n",
       "      <td>1</td>\n",
       "      <td>0</td>\n",
       "      <td>0</td>\n",
       "      <td>0</td>\n",
       "      <td>0</td>\n",
       "      <td>0</td>\n",
       "      <td>0</td>\n",
       "      <td>0</td>\n",
       "      <td>...</td>\n",
       "      <td>0</td>\n",
       "      <td>0</td>\n",
       "      <td>0</td>\n",
       "      <td>0</td>\n",
       "      <td>0</td>\n",
       "      <td>0</td>\n",
       "      <td>0</td>\n",
       "      <td>0</td>\n",
       "      <td>0</td>\n",
       "      <td>0</td>\n",
       "    </tr>\n",
       "    <tr>\n",
       "      <th>194668</th>\n",
       "      <td>2</td>\n",
       "      <td>3</td>\n",
       "      <td>0</td>\n",
       "      <td>0</td>\n",
       "      <td>1</td>\n",
       "      <td>0</td>\n",
       "      <td>0</td>\n",
       "      <td>0</td>\n",
       "      <td>0</td>\n",
       "      <td>0</td>\n",
       "      <td>...</td>\n",
       "      <td>0</td>\n",
       "      <td>0</td>\n",
       "      <td>0</td>\n",
       "      <td>0</td>\n",
       "      <td>0</td>\n",
       "      <td>0</td>\n",
       "      <td>0</td>\n",
       "      <td>0</td>\n",
       "      <td>0</td>\n",
       "      <td>0</td>\n",
       "    </tr>\n",
       "    <tr>\n",
       "      <th>194670</th>\n",
       "      <td>2</td>\n",
       "      <td>3</td>\n",
       "      <td>0</td>\n",
       "      <td>0</td>\n",
       "      <td>0</td>\n",
       "      <td>1</td>\n",
       "      <td>0</td>\n",
       "      <td>0</td>\n",
       "      <td>0</td>\n",
       "      <td>0</td>\n",
       "      <td>...</td>\n",
       "      <td>0</td>\n",
       "      <td>0</td>\n",
       "      <td>0</td>\n",
       "      <td>0</td>\n",
       "      <td>0</td>\n",
       "      <td>0</td>\n",
       "      <td>0</td>\n",
       "      <td>0</td>\n",
       "      <td>0</td>\n",
       "      <td>0</td>\n",
       "    </tr>\n",
       "    <tr>\n",
       "      <th>194671</th>\n",
       "      <td>2</td>\n",
       "      <td>2</td>\n",
       "      <td>0</td>\n",
       "      <td>1</td>\n",
       "      <td>0</td>\n",
       "      <td>0</td>\n",
       "      <td>0</td>\n",
       "      <td>0</td>\n",
       "      <td>0</td>\n",
       "      <td>0</td>\n",
       "      <td>...</td>\n",
       "      <td>1</td>\n",
       "      <td>0</td>\n",
       "      <td>0</td>\n",
       "      <td>0</td>\n",
       "      <td>0</td>\n",
       "      <td>0</td>\n",
       "      <td>0</td>\n",
       "      <td>0</td>\n",
       "      <td>0</td>\n",
       "      <td>0</td>\n",
       "    </tr>\n",
       "  </tbody>\n",
       "</table>\n",
       "<p>101787 rows × 79 columns</p>\n",
       "</div>"
      ],
      "text/plain": [
       "        SEVERITYCODE  PERSONCOUNT  COLLISIONTYPE_Angles  COLLISIONTYPE_Cycles  \\\n",
       "36725              1            2                     0                     0   \n",
       "37637              1            2                     0                     0   \n",
       "126434             1            2                     0                     0   \n",
       "66746              1            2                     0                     0   \n",
       "150325             1            2                     0                     0   \n",
       "...              ...          ...                   ...                   ...   \n",
       "194663             2            3                     1                     0   \n",
       "194666             2            2                     1                     0   \n",
       "194668             2            3                     0                     0   \n",
       "194670             2            3                     0                     0   \n",
       "194671             2            2                     0                     1   \n",
       "\n",
       "        COLLISIONTYPE_Head On  COLLISIONTYPE_Left Turn  COLLISIONTYPE_Other  \\\n",
       "36725                       0                        0                    0   \n",
       "37637                       0                        0                    0   \n",
       "126434                      0                        0                    0   \n",
       "66746                       0                        0                    0   \n",
       "150325                      0                        0                    0   \n",
       "...                       ...                      ...                  ...   \n",
       "194663                      0                        0                    0   \n",
       "194666                      0                        0                    0   \n",
       "194668                      1                        0                    0   \n",
       "194670                      0                        1                    0   \n",
       "194671                      0                        0                    0   \n",
       "\n",
       "        COLLISIONTYPE_Parked Car  COLLISIONTYPE_Pedestrian  \\\n",
       "36725                          1                         0   \n",
       "37637                          0                         0   \n",
       "126434                         0                         0   \n",
       "66746                          1                         0   \n",
       "150325                         0                         0   \n",
       "...                          ...                       ...   \n",
       "194663                         0                         0   \n",
       "194666                         0                         0   \n",
       "194668                         0                         0   \n",
       "194670                         0                         0   \n",
       "194671                         0                         0   \n",
       "\n",
       "        COLLISIONTYPE_Rear Ended  ...  \\\n",
       "36725                          0  ...   \n",
       "37637                          1  ...   \n",
       "126434                         0  ...   \n",
       "66746                          0  ...   \n",
       "150325                         1  ...   \n",
       "...                          ...  ...   \n",
       "194663                         0  ...   \n",
       "194666                         0  ...   \n",
       "194668                         0  ...   \n",
       "194670                         0  ...   \n",
       "194671                         0  ...   \n",
       "\n",
       "        ST_COLDESC_Vehicle Strikes Pedalcyclist  \\\n",
       "36725                                         0   \n",
       "37637                                         0   \n",
       "126434                                        0   \n",
       "66746                                         0   \n",
       "150325                                        0   \n",
       "...                                         ...   \n",
       "194663                                        0   \n",
       "194666                                        0   \n",
       "194668                                        0   \n",
       "194670                                        0   \n",
       "194671                                        1   \n",
       "\n",
       "        ST_COLDESC_Vehicle Strikes Railway Vehicle  \\\n",
       "36725                                            0   \n",
       "37637                                            0   \n",
       "126434                                           0   \n",
       "66746                                            0   \n",
       "150325                                           0   \n",
       "...                                            ...   \n",
       "194663                                           0   \n",
       "194666                                           0   \n",
       "194668                                           0   \n",
       "194670                                           0   \n",
       "194671                                           0   \n",
       "\n",
       "        ST_COLDESC_Vehicle Struck by City Road or Construction Machinery  \\\n",
       "36725                                                   0                  \n",
       "37637                                                   0                  \n",
       "126434                                                  0                  \n",
       "66746                                                   0                  \n",
       "150325                                                  0                  \n",
       "...                                                   ...                  \n",
       "194663                                                  0                  \n",
       "194666                                                  0                  \n",
       "194668                                                  0                  \n",
       "194670                                                  0                  \n",
       "194671                                                  0                  \n",
       "\n",
       "        ST_COLDESC_Vehicle Struck by Other Road or Construction Machinery  \\\n",
       "36725                                                   0                   \n",
       "37637                                                   0                   \n",
       "126434                                                  0                   \n",
       "66746                                                   0                   \n",
       "150325                                                  0                   \n",
       "...                                                   ...                   \n",
       "194663                                                  0                   \n",
       "194666                                                  0                   \n",
       "194668                                                  0                   \n",
       "194670                                                  0                   \n",
       "194671                                                  0                   \n",
       "\n",
       "        ST_COLDESC_Vehicle backing hits pedestrian  \\\n",
       "36725                                            0   \n",
       "37637                                            0   \n",
       "126434                                           0   \n",
       "66746                                            0   \n",
       "150325                                           0   \n",
       "...                                            ...   \n",
       "194663                                           0   \n",
       "194666                                           0   \n",
       "194668                                           0   \n",
       "194670                                           0   \n",
       "194671                                           0   \n",
       "\n",
       "        ST_COLDESC_Vehicle going straight hits pedestrian  \\\n",
       "36725                                                   0   \n",
       "37637                                                   0   \n",
       "126434                                                  0   \n",
       "66746                                                   0   \n",
       "150325                                                  0   \n",
       "...                                                   ...   \n",
       "194663                                                  0   \n",
       "194666                                                  0   \n",
       "194668                                                  0   \n",
       "194670                                                  0   \n",
       "194671                                                  0   \n",
       "\n",
       "        ST_COLDESC_Vehicle hits Pedestrian - All Other Actions  \\\n",
       "36725                                                   0        \n",
       "37637                                                   0        \n",
       "126434                                                  0        \n",
       "66746                                                   0        \n",
       "150325                                                  0        \n",
       "...                                                   ...        \n",
       "194663                                                  0        \n",
       "194666                                                  0        \n",
       "194668                                                  0        \n",
       "194670                                                  0        \n",
       "194671                                                  0        \n",
       "\n",
       "        ST_COLDESC_Vehicle overturned  \\\n",
       "36725                               0   \n",
       "37637                               0   \n",
       "126434                              0   \n",
       "66746                               0   \n",
       "150325                              0   \n",
       "...                               ...   \n",
       "194663                              0   \n",
       "194666                              0   \n",
       "194668                              0   \n",
       "194670                              0   \n",
       "194671                              0   \n",
       "\n",
       "        ST_COLDESC_Vehicle turning left hits pedestrian  \\\n",
       "36725                                                 0   \n",
       "37637                                                 0   \n",
       "126434                                                0   \n",
       "66746                                                 0   \n",
       "150325                                                0   \n",
       "...                                                 ...   \n",
       "194663                                                0   \n",
       "194666                                                0   \n",
       "194668                                                0   \n",
       "194670                                                0   \n",
       "194671                                                0   \n",
       "\n",
       "        ST_COLDESC_Vehicle turning right hits pedestrian  \n",
       "36725                                                  0  \n",
       "37637                                                  0  \n",
       "126434                                                 0  \n",
       "66746                                                  0  \n",
       "150325                                                 0  \n",
       "...                                                  ...  \n",
       "194663                                                 0  \n",
       "194666                                                 0  \n",
       "194668                                                 0  \n",
       "194670                                                 0  \n",
       "194671                                                 0  \n",
       "\n",
       "[101787 rows x 79 columns]"
      ]
     },
     "execution_count": 21,
     "metadata": {},
     "output_type": "execute_result"
    }
   ],
   "source": [
    "df_knn = hc_collisiondata[['SEVERITYCODE','PERSONCOUNT',\\\n",
    " 'COLLISIONTYPE_Angles',\\\n",
    " 'COLLISIONTYPE_Cycles',\\\n",
    " 'COLLISIONTYPE_Head On',\\\n",
    " 'COLLISIONTYPE_Left Turn',\\\n",
    " 'COLLISIONTYPE_Other',\\\n",
    " 'COLLISIONTYPE_Parked Car',\\\n",
    " 'COLLISIONTYPE_Pedestrian',\\\n",
    " 'COLLISIONTYPE_Rear Ended',\\\n",
    " 'COLLISIONTYPE_Right Turn',\\\n",
    " 'COLLISIONTYPE_Sideswipe',\\\n",
    " 'JUNCTIONTYPE_At Intersection (but not related to intersection)',\\\n",
    " 'JUNCTIONTYPE_At Intersection (intersection related)',\\\n",
    " 'JUNCTIONTYPE_Driveway Junction',\\\n",
    " 'JUNCTIONTYPE_Mid-Block (but intersection related)',\\\n",
    " 'JUNCTIONTYPE_Mid-Block (not related to intersection)',\\\n",
    " 'JUNCTIONTYPE_Ramp Junction','ST_COLDESC_All Other Multi Vehicle',\n",
    " 'ST_COLDESC_All other non-collision',\n",
    " 'ST_COLDESC_Breakage of any part of the vehicle resulting in injury or in further property damage',\n",
    " 'ST_COLDESC_Domestic animal other (cat, dog, etc)',\n",
    " 'ST_COLDESC_Entering at angle',\n",
    " 'ST_COLDESC_Fire started in vehicle',\n",
    " 'ST_COLDESC_Fixed object',\n",
    " 'ST_COLDESC_From opposite direction - all others',\n",
    " 'ST_COLDESC_From opposite direction - both going straight - one stopped - sideswipe',\n",
    " 'ST_COLDESC_From opposite direction - both going straight - sideswipe',\n",
    " 'ST_COLDESC_From opposite direction - both moving - head-on',\n",
    " 'ST_COLDESC_From opposite direction - one left turn - one right turn',\n",
    " 'ST_COLDESC_From opposite direction - one left turn - one straight',\n",
    " 'ST_COLDESC_From opposite direction - one stopped - head-on',\n",
    " 'ST_COLDESC_From same direction - all others',\n",
    " 'ST_COLDESC_From same direction - both going straight - both moving - rear-end',\n",
    " 'ST_COLDESC_From same direction - both going straight - both moving - sideswipe',\n",
    " 'ST_COLDESC_From same direction - both going straight - one stopped - rear-end',\n",
    " 'ST_COLDESC_From same direction - both going straight - one stopped - sideswipe',\n",
    " 'ST_COLDESC_From same direction - one left turn - one straight',\n",
    " 'ST_COLDESC_From same direction - one right turn - one straight',\n",
    " 'ST_COLDESC_Non-domestic animal (deer, bear, elk, etc)',\n",
    " 'ST_COLDESC_Not stated',\n",
    " 'ST_COLDESC_One car entering driveway access',\n",
    " 'ST_COLDESC_One car entering parked position',\n",
    " 'ST_COLDESC_One car leaving driveway access',\n",
    " 'ST_COLDESC_One car leaving parked position',\n",
    " 'ST_COLDESC_One parked--one moving',\n",
    " 'ST_COLDESC_Other object',\n",
    " 'ST_COLDESC_Pedalcyclist All Other Involvements ONE UNIT - PEDALCYCLIST ONLY or PEDALCYCLIST STR',\n",
    " 'ST_COLDESC_Pedalcyclist Strikes Moving Vehicle',\n",
    " 'ST_COLDESC_Pedalcyclist Strikes Pedalcyclist or Pedestrian',\n",
    " 'ST_COLDESC_Person fell, jumped or was pushed from vehicle',\n",
    " 'ST_COLDESC_Railway Vehicle Strikes Pedestrian',\n",
    " 'ST_COLDESC_Railway Vehicle Strikes Vehicle',\n",
    " 'ST_COLDESC_Same direction -- both turning left -- both moving -- rear end',\n",
    " 'ST_COLDESC_Same direction -- both turning left -- both moving -- sideswipe',\n",
    " 'ST_COLDESC_Same direction -- both turning left -- one stopped -- rear end',\n",
    " 'ST_COLDESC_Same direction -- both turning left -- one stopped -- sideswipe',\n",
    " 'ST_COLDESC_Same direction -- both turning right -- both moving -- rear end',\n",
    " 'ST_COLDESC_Same direction -- both turning right -- both moving -- sideswipe',\n",
    " 'ST_COLDESC_Same direction -- both turning right -- one stopped -- rear end',\n",
    " 'ST_COLDESC_Same direction -- both turning right -- one stopped -- sideswipe',\n",
    " 'ST_COLDESC_Strikes or Was Struck by Object from the Load of Another Vehicle',\n",
    " 'ST_COLDESC_Strikes or Was Struck by a Part of Another Vehicle (Not from Load)',\n",
    " 'ST_COLDESC_Unknown',\n",
    " 'ST_COLDESC_Vehicle - Pedalcyclist',\n",
    " 'ST_COLDESC_Vehicle Hits City Road or Construction Machinery',\n",
    " 'ST_COLDESC_Vehicle Hits Other Road or Construction Machinery',\n",
    " 'ST_COLDESC_Vehicle Hits State Road or Construction Machinery',\n",
    " 'ST_COLDESC_Vehicle Strikes All Other Non-Domestic Animal',\n",
    " 'ST_COLDESC_Vehicle Strikes Pedalcyclist',\n",
    " 'ST_COLDESC_Vehicle Strikes Railway Vehicle',\n",
    " 'ST_COLDESC_Vehicle Struck by City Road or Construction Machinery',\n",
    " 'ST_COLDESC_Vehicle Struck by Other Road or Construction Machinery',\n",
    " 'ST_COLDESC_Vehicle backing hits pedestrian',\n",
    " 'ST_COLDESC_Vehicle going straight hits pedestrian',\n",
    " 'ST_COLDESC_Vehicle hits Pedestrian - All Other Actions',\n",
    " 'ST_COLDESC_Vehicle overturned',\n",
    " 'ST_COLDESC_Vehicle turning left hits pedestrian',\n",
    " 'ST_COLDESC_Vehicle turning right hits pedestrian']]\n",
    "\n",
    "df_knn"
   ]
  },
  {
   "cell_type": "markdown",
   "metadata": {},
   "source": [
    "Now, let's define the X of the model. This will be all attributes except for SEVERITYCODE, which is our predictor variable. "
   ]
  },
  {
   "cell_type": "code",
   "execution_count": 22,
   "metadata": {
    "scrolled": true
   },
   "outputs": [
    {
     "data": {
      "text/plain": [
       "array([[2, 0, 0, 0, 0, 0, 1, 0, 0, 0, 0, 0, 0, 0, 0, 1, 0, 0, 0, 0, 0, 0,\n",
       "        0, 0, 0, 0, 0, 0, 0, 0, 0, 0, 0, 0, 0, 0, 0, 0, 0, 0, 0, 0, 0, 0,\n",
       "        1, 0, 0, 0, 0, 0, 0, 0, 0, 0, 0, 0, 0, 0, 0, 0, 0, 0, 0, 0, 0, 0,\n",
       "        0, 0, 0, 0, 0, 0, 0, 0, 0, 0, 0, 0],\n",
       "       [2, 0, 0, 0, 0, 0, 0, 0, 1, 0, 0, 0, 0, 0, 1, 0, 0, 0, 0, 0, 0, 0,\n",
       "        0, 0, 0, 0, 0, 0, 0, 0, 0, 0, 0, 0, 1, 0, 0, 0, 0, 0, 0, 0, 0, 0,\n",
       "        0, 0, 0, 0, 0, 0, 0, 0, 0, 0, 0, 0, 0, 0, 0, 0, 0, 0, 0, 0, 0, 0,\n",
       "        0, 0, 0, 0, 0, 0, 0, 0, 0, 0, 0, 0],\n",
       "       [2, 0, 0, 0, 0, 0, 0, 0, 0, 0, 1, 0, 1, 0, 0, 0, 0, 0, 0, 0, 0, 0,\n",
       "        0, 0, 0, 0, 0, 0, 0, 0, 0, 0, 0, 0, 0, 0, 0, 0, 0, 0, 0, 0, 0, 0,\n",
       "        0, 0, 0, 0, 0, 0, 0, 0, 0, 1, 0, 0, 0, 0, 0, 0, 0, 0, 0, 0, 0, 0,\n",
       "        0, 0, 0, 0, 0, 0, 0, 0, 0, 0, 0, 0],\n",
       "       [2, 0, 0, 0, 0, 0, 1, 0, 0, 0, 0, 0, 0, 0, 0, 1, 0, 0, 0, 0, 0, 0,\n",
       "        0, 0, 0, 0, 0, 0, 0, 0, 0, 0, 0, 0, 0, 0, 0, 0, 0, 0, 0, 0, 0, 0,\n",
       "        1, 0, 0, 0, 0, 0, 0, 0, 0, 0, 0, 0, 0, 0, 0, 0, 0, 0, 0, 0, 0, 0,\n",
       "        0, 0, 0, 0, 0, 0, 0, 0, 0, 0, 0, 0],\n",
       "       [2, 0, 0, 0, 0, 0, 0, 0, 1, 0, 0, 0, 1, 0, 0, 0, 0, 0, 0, 0, 0, 0,\n",
       "        0, 0, 0, 0, 0, 0, 0, 0, 0, 0, 1, 0, 0, 0, 0, 0, 0, 0, 0, 0, 0, 0,\n",
       "        0, 0, 0, 0, 0, 0, 0, 0, 0, 0, 0, 0, 0, 0, 0, 0, 0, 0, 0, 0, 0, 0,\n",
       "        0, 0, 0, 0, 0, 0, 0, 0, 0, 0, 0, 0]], dtype=int64)"
      ]
     },
     "execution_count": 22,
     "metadata": {},
     "output_type": "execute_result"
    }
   ],
   "source": [
    "X = df_knn[['PERSONCOUNT',\\\n",
    " 'COLLISIONTYPE_Angles',\\\n",
    " 'COLLISIONTYPE_Cycles',\\\n",
    " 'COLLISIONTYPE_Head On',\\\n",
    " 'COLLISIONTYPE_Left Turn',\\\n",
    " 'COLLISIONTYPE_Other',\\\n",
    " 'COLLISIONTYPE_Parked Car',\\\n",
    " 'COLLISIONTYPE_Pedestrian',\\\n",
    " 'COLLISIONTYPE_Rear Ended',\\\n",
    " 'COLLISIONTYPE_Right Turn',\\\n",
    " 'COLLISIONTYPE_Sideswipe',\\\n",
    " 'JUNCTIONTYPE_At Intersection (but not related to intersection)',\\\n",
    " 'JUNCTIONTYPE_At Intersection (intersection related)',\\\n",
    " 'JUNCTIONTYPE_Driveway Junction',\\\n",
    " 'JUNCTIONTYPE_Mid-Block (but intersection related)',\\\n",
    " 'JUNCTIONTYPE_Mid-Block (not related to intersection)',\\\n",
    " 'JUNCTIONTYPE_Ramp Junction','ST_COLDESC_All Other Multi Vehicle',\n",
    " 'ST_COLDESC_All other non-collision',\n",
    " 'ST_COLDESC_Breakage of any part of the vehicle resulting in injury or in further property damage',\n",
    " 'ST_COLDESC_Domestic animal other (cat, dog, etc)',\n",
    " 'ST_COLDESC_Entering at angle',\n",
    " 'ST_COLDESC_Fire started in vehicle',\n",
    " 'ST_COLDESC_Fixed object',\n",
    " 'ST_COLDESC_From opposite direction - all others',\n",
    " 'ST_COLDESC_From opposite direction - both going straight - one stopped - sideswipe',\n",
    " 'ST_COLDESC_From opposite direction - both going straight - sideswipe',\n",
    " 'ST_COLDESC_From opposite direction - both moving - head-on',\n",
    " 'ST_COLDESC_From opposite direction - one left turn - one right turn',\n",
    " 'ST_COLDESC_From opposite direction - one left turn - one straight',\n",
    " 'ST_COLDESC_From opposite direction - one stopped - head-on',\n",
    " 'ST_COLDESC_From same direction - all others',\n",
    " 'ST_COLDESC_From same direction - both going straight - both moving - rear-end',\n",
    " 'ST_COLDESC_From same direction - both going straight - both moving - sideswipe',\n",
    " 'ST_COLDESC_From same direction - both going straight - one stopped - rear-end',\n",
    " 'ST_COLDESC_From same direction - both going straight - one stopped - sideswipe',\n",
    " 'ST_COLDESC_From same direction - one left turn - one straight',\n",
    " 'ST_COLDESC_From same direction - one right turn - one straight',\n",
    " 'ST_COLDESC_Non-domestic animal (deer, bear, elk, etc)',\n",
    " 'ST_COLDESC_Not stated',\n",
    " 'ST_COLDESC_One car entering driveway access',\n",
    " 'ST_COLDESC_One car entering parked position',\n",
    " 'ST_COLDESC_One car leaving driveway access',\n",
    " 'ST_COLDESC_One car leaving parked position',\n",
    " 'ST_COLDESC_One parked--one moving',\n",
    " 'ST_COLDESC_Other object',\n",
    " 'ST_COLDESC_Pedalcyclist All Other Involvements ONE UNIT - PEDALCYCLIST ONLY or PEDALCYCLIST STR',\n",
    " 'ST_COLDESC_Pedalcyclist Strikes Moving Vehicle',\n",
    " 'ST_COLDESC_Pedalcyclist Strikes Pedalcyclist or Pedestrian',\n",
    " 'ST_COLDESC_Person fell, jumped or was pushed from vehicle',\n",
    " 'ST_COLDESC_Railway Vehicle Strikes Pedestrian',\n",
    " 'ST_COLDESC_Railway Vehicle Strikes Vehicle',\n",
    " 'ST_COLDESC_Same direction -- both turning left -- both moving -- rear end',\n",
    " 'ST_COLDESC_Same direction -- both turning left -- both moving -- sideswipe',\n",
    " 'ST_COLDESC_Same direction -- both turning left -- one stopped -- rear end',\n",
    " 'ST_COLDESC_Same direction -- both turning left -- one stopped -- sideswipe',\n",
    " 'ST_COLDESC_Same direction -- both turning right -- both moving -- rear end',\n",
    " 'ST_COLDESC_Same direction -- both turning right -- both moving -- sideswipe',\n",
    " 'ST_COLDESC_Same direction -- both turning right -- one stopped -- rear end',\n",
    " 'ST_COLDESC_Same direction -- both turning right -- one stopped -- sideswipe',\n",
    " 'ST_COLDESC_Strikes or Was Struck by Object from the Load of Another Vehicle',\n",
    " 'ST_COLDESC_Strikes or Was Struck by a Part of Another Vehicle (Not from Load)',\n",
    " 'ST_COLDESC_Unknown',\n",
    " 'ST_COLDESC_Vehicle - Pedalcyclist',\n",
    " 'ST_COLDESC_Vehicle Hits City Road or Construction Machinery',\n",
    " 'ST_COLDESC_Vehicle Hits Other Road or Construction Machinery',\n",
    " 'ST_COLDESC_Vehicle Hits State Road or Construction Machinery',\n",
    " 'ST_COLDESC_Vehicle Strikes All Other Non-Domestic Animal',\n",
    " 'ST_COLDESC_Vehicle Strikes Pedalcyclist',\n",
    " 'ST_COLDESC_Vehicle Strikes Railway Vehicle',\n",
    " 'ST_COLDESC_Vehicle Struck by City Road or Construction Machinery',\n",
    " 'ST_COLDESC_Vehicle Struck by Other Road or Construction Machinery',\n",
    " 'ST_COLDESC_Vehicle backing hits pedestrian',\n",
    " 'ST_COLDESC_Vehicle going straight hits pedestrian',\n",
    " 'ST_COLDESC_Vehicle hits Pedestrian - All Other Actions',\n",
    " 'ST_COLDESC_Vehicle overturned',\n",
    " 'ST_COLDESC_Vehicle turning left hits pedestrian',\n",
    " 'ST_COLDESC_Vehicle turning right hits pedestrian']].values  #.astype(float)\n",
    "X[0:5]"
   ]
  },
  {
   "cell_type": "markdown",
   "metadata": {},
   "source": [
    "Now, we set Y to the predictor variable. "
   ]
  },
  {
   "cell_type": "code",
   "execution_count": 23,
   "metadata": {
    "scrolled": true
   },
   "outputs": [
    {
     "data": {
      "text/plain": [
       "array([1, 1, 1, 1, 1], dtype=int64)"
      ]
     },
     "execution_count": 23,
     "metadata": {},
     "output_type": "execute_result"
    }
   ],
   "source": [
    "y = df_knn['SEVERITYCODE'].values\n",
    "y[0:5]"
   ]
  },
  {
   "cell_type": "markdown",
   "metadata": {},
   "source": [
    "### _K Nearest Neighbor_"
   ]
  },
  {
   "cell_type": "markdown",
   "metadata": {},
   "source": [
    "K nearest neighbors is a simple algorithm that stores all available cases and classifies new cases based on a similarity measure "
   ]
  },
  {
   "cell_type": "code",
   "execution_count": 24,
   "metadata": {},
   "outputs": [
    {
     "name": "stdout",
     "output_type": "stream",
     "text": [
      "Train set: (81429, 78) (81429,)\n",
      "Test set: (20358, 78) (20358,)\n"
     ]
    }
   ],
   "source": [
    "from sklearn.model_selection import train_test_split\n",
    "X_train, X_test, y_train, y_test = train_test_split( X, y, test_size=0.2, random_state=4)\n",
    "print ('Train set:', X_train.shape,  y_train.shape)\n",
    "print ('Test set:', X_test.shape,  y_test.shape)"
   ]
  },
  {
   "cell_type": "code",
   "execution_count": 25,
   "metadata": {},
   "outputs": [],
   "source": [
    "from sklearn.neighbors import KNeighborsClassifier"
   ]
  },
  {
   "cell_type": "code",
   "execution_count": 40,
   "metadata": {},
   "outputs": [
    {
     "data": {
      "text/plain": [
       "KNeighborsClassifier(algorithm='auto', leaf_size=30, metric='minkowski',\n",
       "                     metric_params=None, n_jobs=None, n_neighbors=4, p=2,\n",
       "                     weights='uniform')"
      ]
     },
     "execution_count": 40,
     "metadata": {},
     "output_type": "execute_result"
    }
   ],
   "source": [
    "k = 4\n",
    "#Train Model and Predict  \n",
    "neigh = KNeighborsClassifier(n_neighbors = k).fit(X_train,y_train)\n",
    "neigh"
   ]
  },
  {
   "cell_type": "code",
   "execution_count": 28,
   "metadata": {},
   "outputs": [
    {
     "data": {
      "text/plain": [
       "array([1, 2, 1, 2, 1], dtype=int64)"
      ]
     },
     "execution_count": 28,
     "metadata": {},
     "output_type": "execute_result"
    }
   ],
   "source": [
    "yhat = neigh.predict(X_test)\n",
    "yhat[0:5]"
   ]
  },
  {
   "cell_type": "code",
   "execution_count": 29,
   "metadata": {
    "scrolled": true
   },
   "outputs": [
    {
     "name": "stdout",
     "output_type": "stream",
     "text": [
      "Train set Accuracy:  0.6619509020127964\n",
      "Test set Accuracy:  0.6560565870910698\n"
     ]
    }
   ],
   "source": [
    "from sklearn import metrics\n",
    "print(\"Train set Accuracy: \", metrics.accuracy_score(y_train, neigh.predict(X_train)))\n",
    "print(\"Test set Accuracy: \", metrics.accuracy_score(y_test, yhat))"
   ]
  },
  {
   "cell_type": "markdown",
   "metadata": {},
   "source": [
    "### _Logistic Regression_"
   ]
  },
  {
   "cell_type": "markdown",
   "metadata": {},
   "source": [
    "While Linear Regression is suited for estimating continuous values (e.g. estimating house price), it is not the best tool for predicting the class of an observed data point. In order to estimate the class of a data point, we need some sort of guidance on what would be the most probable class for that data point. For this, we use Logistic Regression."
   ]
  },
  {
   "cell_type": "code",
   "execution_count": null,
   "metadata": {},
   "outputs": [],
   "source": [
    "import pandas as pd\n",
    "import pylab as pl\n",
    "import numpy as np\n",
    "import scipy.optimize as opt\n",
    "from sklearn import preprocessing\n",
    "%matplotlib inline \n",
    "import matplotlib.pyplot as plt"
   ]
  },
  {
   "cell_type": "code",
   "execution_count": 30,
   "metadata": {
    "scrolled": true
   },
   "outputs": [
    {
     "data": {
      "text/plain": [
       "LogisticRegression(C=0.01, class_weight=None, dual=False, fit_intercept=True,\n",
       "                   intercept_scaling=1, l1_ratio=None, max_iter=100,\n",
       "                   multi_class='auto', n_jobs=None, penalty='l2',\n",
       "                   random_state=None, solver='liblinear', tol=0.0001, verbose=0,\n",
       "                   warm_start=False)"
      ]
     },
     "execution_count": 30,
     "metadata": {},
     "output_type": "execute_result"
    }
   ],
   "source": [
    "from sklearn.linear_model import LogisticRegression\n",
    "from sklearn.metrics import confusion_matrix\n",
    "LR = LogisticRegression(C=0.01, solver='liblinear').fit(X_train,y_train)\n",
    "LR"
   ]
  },
  {
   "cell_type": "code",
   "execution_count": 31,
   "metadata": {},
   "outputs": [
    {
     "data": {
      "text/plain": [
       "array([2, 2, 1, ..., 2, 1, 2], dtype=int64)"
      ]
     },
     "execution_count": 31,
     "metadata": {},
     "output_type": "execute_result"
    }
   ],
   "source": [
    "yhat = LR.predict(X_test)\n",
    "yhat"
   ]
  },
  {
   "cell_type": "code",
   "execution_count": 32,
   "metadata": {},
   "outputs": [
    {
     "data": {
      "text/plain": [
       "array([[0.38628681, 0.61371319],\n",
       "       [0.05504429, 0.94495571],\n",
       "       [0.5756267 , 0.4243733 ],\n",
       "       ...,\n",
       "       [0.30104479, 0.69895521],\n",
       "       [0.8125152 , 0.1874848 ],\n",
       "       [0.42386507, 0.57613493]])"
      ]
     },
     "execution_count": 32,
     "metadata": {},
     "output_type": "execute_result"
    }
   ],
   "source": [
    "yhat_prob = LR.predict_proba(X_test)\n",
    "yhat_prob"
   ]
  },
  {
   "cell_type": "markdown",
   "metadata": {},
   "source": [
    "Lets try jaccard index for accuracy evaluation. we can define jaccard as the size of the intersection divided by the size of the union of two label sets. If the entire set of predicted labels for a sample strictly match with the true set of labels, then the subset accuracy is 1.0; otherwise it is 0.0."
   ]
  },
  {
   "cell_type": "code",
   "execution_count": 33,
   "metadata": {},
   "outputs": [
    {
     "name": "stderr",
     "output_type": "stream",
     "text": [
      "C:\\Users\\71062489\\Anaconda3\\lib\\site-packages\\sklearn\\metrics\\_classification.py:664: FutureWarning: jaccard_similarity_score has been deprecated and replaced with jaccard_score. It will be removed in version 0.23. This implementation has surprising behavior for binary and multiclass classification tasks.\n",
      "  FutureWarning)\n"
     ]
    },
    {
     "data": {
      "text/plain": [
       "0.6957461440220061"
      ]
     },
     "execution_count": 33,
     "metadata": {},
     "output_type": "execute_result"
    }
   ],
   "source": [
    "from sklearn.metrics import jaccard_similarity_score\n",
    "jaccard_similarity_score(y_test, yhat)"
   ]
  },
  {
   "cell_type": "markdown",
   "metadata": {},
   "source": [
    "# __Part V Results__"
   ]
  },
  {
   "cell_type": "markdown",
   "metadata": {},
   "source": [
    "After data analysis and modeling, we've determined the most important features that impact accident severity and can predict accident severity with 70% accuracy. The most important featuers in accident severity are Junction Type, Collision Type, Number of Persons involved, and the accidend description. \n",
    "\n",
    "The most interesting observation is that bad weather did not increase the likelihood that an accident would be severity 2. \n",
    "\n",
    "Our K-Nearest neighbor model produced only 66% accuracy. This was a good model choice given the characteristics of the dataset. However, the accuracy was not as high as would be acceptable. Perhaps the accurcay in this model was lower because the different attributes used in predicition are not necessarily related to one another. Therefore, it may be hard for the algorithm to compile the similarity measure. \n",
    "\n",
    "Our logisitc regression model produced 70% accuracy. This is certainly an improvement and sufficent accuracy for the first pass at the model. Perhaps this model had better accuracy because the target variable was binary. \n",
    "\n"
   ]
  },
  {
   "cell_type": "markdown",
   "metadata": {},
   "source": [
    "# __Part VI Discussion__"
   ]
  },
  {
   "cell_type": "markdown",
   "metadata": {},
   "source": [
    "The insights gained from this model is that accidents involving pedestrians and cyclists at intersections and midblocks are the most severe in terms of personal injury. For our first responders, this means that in order to reduce accident damage, first responders should be concentrated in locations where pedestrians and cyclists are common - like city centers, school zones, city parks, etc. In addition, first responders should be positioned in places that reduce drive times to these locations. "
   ]
  },
  {
   "cell_type": "markdown",
   "metadata": {},
   "source": [
    "# __Part VI Conclusion__"
   ]
  },
  {
   "cell_type": "markdown",
   "metadata": {},
   "source": [
    "In conclusion, this was a successful first attempt at predicting accident severity through the use of machine learning classification models. \n",
    "\n",
    "To take this analysis farther, we would like to do the following things. \n",
    "\n",
    "First, rerun the analysis using weather, road conditions, and light conditions as the only variable. The low impact these variables had on accident severity was interesting and it would be worthwhile to isolate that variable and understand what, if any, impact it has on accidents. \n",
    "\n",
    "Second, we would want to run the same analysis as above but with a dataset for which the records contain all information in totality. A lot of the records used were missing some values, either weather related, geographical, or other. It would be interesting to see how the models performed on a data set with 100% available information. \n",
    " "
   ]
  }
 ],
 "metadata": {
  "kernelspec": {
   "display_name": "Python 3",
   "language": "python",
   "name": "python3"
  },
  "language_info": {
   "codemirror_mode": {
    "name": "ipython",
    "version": 3
   },
   "file_extension": ".py",
   "mimetype": "text/x-python",
   "name": "python",
   "nbconvert_exporter": "python",
   "pygments_lexer": "ipython3",
   "version": "3.7.6"
  }
 },
 "nbformat": 4,
 "nbformat_minor": 4
}

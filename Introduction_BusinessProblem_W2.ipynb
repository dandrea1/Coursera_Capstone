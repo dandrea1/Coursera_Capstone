{
 "cells": [
  {
   "cell_type": "markdown",
   "metadata": {},
   "source": [
    "## _Week 2 Assignment: Introduction to Business Problem_"
   ]
  },
  {
   "cell_type": "markdown",
   "metadata": {},
   "source": [
    "_Instructions:_\n",
    "The initial phase is to understand the project's objective from the business or application perspective. Then, you need to translate this knowledge into a machine learning problem with a preliminary plan to achieve the objectives."
   ]
  },
  {
   "cell_type": "markdown",
   "metadata": {},
   "source": [
    "### _A description of the problem and a discussion of the background_\n",
    "\n",
    "First responders (firefighters, policeman, ambulance drivers, paramedics, EMTs) are all professions that are the first to arrive to the scene of a traffic accident. However, first responders and their stations are not always in the optimal location to reach the scene of the next accident. The further first responders are from an accident, the more risk there is to those involved in the accident and the more risk their is to first responder safety. \n",
    "\n",
    "For example, \n",
    "- Firetruck accidents rank as the second leading cause of on-the-job deaths for firefighters.\n",
    "- Approximately 500 firefighters are involved in fatal firetruck crashes every year; on average, 1 in 100 of those occupants die as a result of the crash.\n",
    "- Between 2006 and 2016, more than one police officer per week was killed on average from a collision or from being struck directly by another vehicle.\n",
    "- More than 10,000 ambulance-related collisions occur annually; from 1993 to 2010, approximately 97 EMS technicians were killed in collisions.\n",
    "\n",
    "Source: https://insurance.glatfelters.com/first-responder-safety-roadside-safety\n",
    "\n",
    "\n",
    "#### Project Goal\n",
    "The goal of this project is to help minimize the risk posed to first responders on their way to an accident. By using machine learning categorization and prediction models, we can discover the most common accident locations and conditions. This information can be used to optimally staff and position first responders so they can minimize travel risk on the job.  \n",
    "\n",
    "#### Target Audience\n",
    "\n",
    "The target audience for this project are the government entities and policymakers who are interested in optimizing their emergency services regarding car accidents. This can also be used within the emergency response service entities to optimize their own response time. "
   ]
  }
 ],
 "metadata": {
  "kernelspec": {
   "display_name": "Python 3",
   "language": "python",
   "name": "python3"
  },
  "language_info": {
   "codemirror_mode": {
    "name": "ipython",
    "version": 3
   },
   "file_extension": ".py",
   "mimetype": "text/x-python",
   "name": "python",
   "nbconvert_exporter": "python",
   "pygments_lexer": "ipython3",
   "version": "3.7.6"
  }
 },
 "nbformat": 4,
 "nbformat_minor": 4
}
